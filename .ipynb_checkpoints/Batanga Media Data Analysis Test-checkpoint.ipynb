{
 "cells": [
  {
   "cell_type": "code",
   "execution_count": 107,
   "metadata": {
    "collapsed": true
   },
   "outputs": [],
   "source": [
    "import pandas as pd"
   ]
  },
  {
   "cell_type": "code",
   "execution_count": 108,
   "metadata": {
    "collapsed": false
   },
   "outputs": [],
   "source": [
    "%matplotlib inline\n",
    "import matplotlib.pyplot as plt"
   ]
  },
  {
   "cell_type": "code",
   "execution_count": 109,
   "metadata": {
    "collapsed": true
   },
   "outputs": [],
   "source": [
    "data_frame = pd.read_excel(\"test.xlsx\")"
   ]
  },
  {
   "cell_type": "code",
   "execution_count": 110,
   "metadata": {
    "collapsed": false
   },
   "outputs": [
    {
     "data": {
      "text/html": [
       "<div>\n",
       "<table border=\"1\" class=\"dataframe\">\n",
       "  <thead>\n",
       "    <tr style=\"text-align: right;\">\n",
       "      <th></th>\n",
       "      <th>Title</th>\n",
       "      <th>Publish Date</th>\n",
       "      <th>Section</th>\n",
       "      <th>Tags</th>\n",
       "      <th>Sort (Views)</th>\n",
       "      <th>Visitors</th>\n",
       "      <th>Views</th>\n",
       "      <th>Engaged Minutes</th>\n",
       "      <th>Shares</th>\n",
       "      <th>Desktop Views</th>\n",
       "      <th>...</th>\n",
       "      <th>Search Refs</th>\n",
       "      <th>Internal Refs</th>\n",
       "      <th>Other Refs</th>\n",
       "      <th>Direct Refs</th>\n",
       "      <th>New Vis</th>\n",
       "      <th>Returning Vis</th>\n",
       "      <th>Views New Vis.</th>\n",
       "      <th>Views Ret. Vis.</th>\n",
       "      <th>Minutes New Vis.</th>\n",
       "      <th>Minutes Ret. Vis.</th>\n",
       "    </tr>\n",
       "  </thead>\n",
       "  <tbody>\n",
       "    <tr>\n",
       "      <th>0</th>\n",
       "      <td>Qué siente un bebé en el vientre cuando la mad...</td>\n",
       "      <td>2014-06-19 19:00:00</td>\n",
       "      <td>Familia</td>\n",
       "      <td>vida sexual femenina,comunicacion con el bebe,...</td>\n",
       "      <td>2032660</td>\n",
       "      <td>1799957</td>\n",
       "      <td>2032660</td>\n",
       "      <td>1909892</td>\n",
       "      <td>19566</td>\n",
       "      <td>403304</td>\n",
       "      <td>...</td>\n",
       "      <td>26666</td>\n",
       "      <td>26441</td>\n",
       "      <td>522790</td>\n",
       "      <td>600407</td>\n",
       "      <td>1391120</td>\n",
       "      <td>429155</td>\n",
       "      <td>1537286</td>\n",
       "      <td>495372</td>\n",
       "      <td>1479120</td>\n",
       "      <td>430771</td>\n",
       "    </tr>\n",
       "    <tr>\n",
       "      <th>1</th>\n",
       "      <td>17 tatuajes que toda mujer amaría tener</td>\n",
       "      <td>2015-05-21 08:00:00</td>\n",
       "      <td>Belleza</td>\n",
       "      <td>piel,cuidados de la piel,Mujeres,tatuajes</td>\n",
       "      <td>1781700</td>\n",
       "      <td>1360538</td>\n",
       "      <td>1781700</td>\n",
       "      <td>1348435</td>\n",
       "      <td>93632</td>\n",
       "      <td>350615</td>\n",
       "      <td>...</td>\n",
       "      <td>31624</td>\n",
       "      <td>49391</td>\n",
       "      <td>53252</td>\n",
       "      <td>493505</td>\n",
       "      <td>1020454</td>\n",
       "      <td>407702</td>\n",
       "      <td>1183943</td>\n",
       "      <td>597756</td>\n",
       "      <td>902278</td>\n",
       "      <td>446156</td>\n",
       "    </tr>\n",
       "    <tr>\n",
       "      <th>2</th>\n",
       "      <td>Las mejores posiciones sexuales según Esperanz...</td>\n",
       "      <td>2014-10-29 16:47:00</td>\n",
       "      <td>Pareja</td>\n",
       "      <td>mujeres sexys,sexualidad,Actrices,el estilo de...</td>\n",
       "      <td>1161996</td>\n",
       "      <td>919771</td>\n",
       "      <td>1161996</td>\n",
       "      <td>1532956</td>\n",
       "      <td>2056</td>\n",
       "      <td>12840</td>\n",
       "      <td>...</td>\n",
       "      <td>5904</td>\n",
       "      <td>560</td>\n",
       "      <td>1095115</td>\n",
       "      <td>48168</td>\n",
       "      <td>635002</td>\n",
       "      <td>315815</td>\n",
       "      <td>763930</td>\n",
       "      <td>398064</td>\n",
       "      <td>1027991</td>\n",
       "      <td>504965</td>\n",
       "    </tr>\n",
       "    <tr>\n",
       "      <th>3</th>\n",
       "      <td>4 posiciones para el sexo oral</td>\n",
       "      <td>2014-05-23 08:56:00</td>\n",
       "      <td>Pareja</td>\n",
       "      <td>sexualidad,tips,sexo</td>\n",
       "      <td>925858</td>\n",
       "      <td>774496</td>\n",
       "      <td>925858</td>\n",
       "      <td>722693</td>\n",
       "      <td>1441</td>\n",
       "      <td>79193</td>\n",
       "      <td>...</td>\n",
       "      <td>184530</td>\n",
       "      <td>248227</td>\n",
       "      <td>309763</td>\n",
       "      <td>132809</td>\n",
       "      <td>523292</td>\n",
       "      <td>257296</td>\n",
       "      <td>597597</td>\n",
       "      <td>328261</td>\n",
       "      <td>467838</td>\n",
       "      <td>254854</td>\n",
       "    </tr>\n",
       "    <tr>\n",
       "      <th>4</th>\n",
       "      <td>22 famosas que lucen HERMOSAS sin maquillaje</td>\n",
       "      <td>2015-07-31 23:00:00</td>\n",
       "      <td>Famosos</td>\n",
       "      <td>fotos de famosos,fotos de celebridades,famosas...</td>\n",
       "      <td>882087</td>\n",
       "      <td>750048</td>\n",
       "      <td>882087</td>\n",
       "      <td>793876</td>\n",
       "      <td>35294</td>\n",
       "      <td>244990</td>\n",
       "      <td>...</td>\n",
       "      <td>2478</td>\n",
       "      <td>2505</td>\n",
       "      <td>22312</td>\n",
       "      <td>113418</td>\n",
       "      <td>595509</td>\n",
       "      <td>169403</td>\n",
       "      <td>668436</td>\n",
       "      <td>213651</td>\n",
       "      <td>593643</td>\n",
       "      <td>200232</td>\n",
       "    </tr>\n",
       "  </tbody>\n",
       "</table>\n",
       "<p>5 rows × 23 columns</p>\n",
       "</div>"
      ],
      "text/plain": [
       "                                               Title        Publish Date  \\\n",
       "0  Qué siente un bebé en el vientre cuando la mad... 2014-06-19 19:00:00   \n",
       "1            17 tatuajes que toda mujer amaría tener 2015-05-21 08:00:00   \n",
       "2  Las mejores posiciones sexuales según Esperanz... 2014-10-29 16:47:00   \n",
       "3                     4 posiciones para el sexo oral 2014-05-23 08:56:00   \n",
       "4       22 famosas que lucen HERMOSAS sin maquillaje 2015-07-31 23:00:00   \n",
       "\n",
       "   Section                                               Tags  Sort (Views)  \\\n",
       "0  Familia  vida sexual femenina,comunicacion con el bebe,...       2032660   \n",
       "1  Belleza          piel,cuidados de la piel,Mujeres,tatuajes       1781700   \n",
       "2   Pareja  mujeres sexys,sexualidad,Actrices,el estilo de...       1161996   \n",
       "3   Pareja                               sexualidad,tips,sexo        925858   \n",
       "4  Famosos  fotos de famosos,fotos de celebridades,famosas...        882087   \n",
       "\n",
       "   Visitors    Views  Engaged Minutes  Shares  Desktop Views  \\\n",
       "0   1799957  2032660          1909892   19566         403304   \n",
       "1   1360538  1781700          1348435   93632         350615   \n",
       "2    919771  1161996          1532956    2056          12840   \n",
       "3    774496   925858           722693    1441          79193   \n",
       "4    750048   882087           793876   35294         244990   \n",
       "\n",
       "         ...          Search Refs  Internal Refs  Other Refs  Direct Refs  \\\n",
       "0        ...                26666          26441      522790       600407   \n",
       "1        ...                31624          49391       53252       493505   \n",
       "2        ...                 5904            560     1095115        48168   \n",
       "3        ...               184530         248227      309763       132809   \n",
       "4        ...                 2478           2505       22312       113418   \n",
       "\n",
       "   New Vis  Returning Vis  Views New Vis.  Views Ret. Vis.  Minutes New Vis.  \\\n",
       "0  1391120         429155         1537286           495372           1479120   \n",
       "1  1020454         407702         1183943           597756            902278   \n",
       "2   635002         315815          763930           398064           1027991   \n",
       "3   523292         257296          597597           328261            467838   \n",
       "4   595509         169403          668436           213651            593643   \n",
       "\n",
       "   Minutes Ret. Vis.  \n",
       "0             430771  \n",
       "1             446156  \n",
       "2             504965  \n",
       "3             254854  \n",
       "4             200232  \n",
       "\n",
       "[5 rows x 23 columns]"
      ]
     },
     "execution_count": 110,
     "metadata": {},
     "output_type": "execute_result"
    }
   ],
   "source": [
    "data_frame.head()"
   ]
  },
  {
   "cell_type": "code",
   "execution_count": 111,
   "metadata": {
    "collapsed": false
   },
   "outputs": [
    {
     "data": {
      "text/plain": [
       "Index([            u'Title',      u'Publish Date',           u'Section',\n",
       "                    u'Tags',      u'Sort (Views)',          u'Visitors',\n",
       "                   u'Views',   u'Engaged Minutes',            u'Shares',\n",
       "           u'Desktop Views',      u'Mobile Views',      u'Tablet Views',\n",
       "             u'Social Refs',       u'Search Refs',     u'Internal Refs',\n",
       "              u'Other Refs',       u'Direct Refs',           u'New Vis',\n",
       "           u'Returning Vis',    u'Views New Vis.',   u'Views Ret. Vis.',\n",
       "        u'Minutes New Vis.', u'Minutes Ret. Vis.'],\n",
       "      dtype='object')"
      ]
     },
     "execution_count": 111,
     "metadata": {},
     "output_type": "execute_result"
    }
   ],
   "source": [
    "data_frame.columns"
   ]
  },
  {
   "cell_type": "markdown",
   "metadata": {},
   "source": [
    "# Top 10 Tags por # Shares"
   ]
  },
  {
   "cell_type": "code",
   "execution_count": 112,
   "metadata": {
    "collapsed": true
   },
   "outputs": [],
   "source": [
    "tags = data_frame.sort(\"Shares\",ascending=False)"
   ]
  },
  {
   "cell_type": "code",
   "execution_count": 113,
   "metadata": {
    "collapsed": false
   },
   "outputs": [
    {
     "data": {
      "text/plain": [
       "u'vida sexual femenina,comunicacion con el bebe,Curiosidades,sexo,cuidados del bebe,size-m'"
      ]
     },
     "execution_count": 113,
     "metadata": {},
     "output_type": "execute_result"
    }
   ],
   "source": [
    "tags['Tags'][0]"
   ]
  },
  {
   "cell_type": "markdown",
   "metadata": {},
   "source": [
    "# Top digitos en listas ordenado por # Shares "
   ]
  },
  {
   "cell_type": "code",
   "execution_count": 137,
   "metadata": {
    "collapsed": false
   },
   "outputs": [],
   "source": [
    "data_frame['digit'] = data_frame['Title'].apply(lambda x: int(x.split(\" \")[0]) if x.split(\" \")[0].isdigit() else 0)"
   ]
  },
  {
   "cell_type": "code",
   "execution_count": 138,
   "metadata": {
    "collapsed": true
   },
   "outputs": [],
   "source": [
    "digit = data_frame.sort(\"Shares\",ascending=False)"
   ]
  },
  {
   "cell_type": "code",
   "execution_count": 140,
   "metadata": {
    "collapsed": false
   },
   "outputs": [
    {
     "name": "stdout",
     "output_type": "stream",
     "text": [
      "[ 9 15 10  0 17  7 20  5  6 22 14 13 12 28  8 11  4  3]\n"
     ]
    }
   ],
   "source": [
    "print digit['digit'].unique()"
   ]
  },
  {
   "cell_type": "code",
   "execution_count": 141,
   "metadata": {
    "collapsed": false
   },
   "outputs": [
    {
     "data": {
      "text/plain": [
       "<matplotlib.collections.PathCollection at 0x12fc6ab90>"
      ]
     },
     "execution_count": 141,
     "metadata": {},
     "output_type": "execute_result"
    },
    {
     "data": {
      "image/png": "[encoded data removed]",
      "text/plain": [
       "<matplotlib.figure.Figure at 0x13385fd10>"
      ]
     },
     "metadata": {},
     "output_type": "display_data"
    }
   ],
   "source": [
    "plt.figure()\n",
    "plt.scatter(data_frame['digit'],data_frame['Shares'])"
   ]
  },
  {
   "cell_type": "markdown",
   "metadata": {
    "collapsed": true
   },
   "source": [
    "# ¿Existe alguna relación entre el número de palabras en el Título y el Total de Shares? "
   ]
  },
  {
   "cell_type": "code",
   "execution_count": 52,
   "metadata": {
    "collapsed": false
   },
   "outputs": [],
   "source": [
    "data_frame['title_word_count'] = data_frame['Title'].apply(lambda x: len(x.split(\" \")))"
   ]
  },
  {
   "cell_type": "code",
   "execution_count": 68,
   "metadata": {
    "collapsed": false
   },
   "outputs": [
    {
     "data": {
      "text/plain": [
       "<matplotlib.text.Text at 0x10e70aa90>"
      ]
     },
     "execution_count": 68,
     "metadata": {},
     "output_type": "execute_result"
    },
    {
     "data": {
      "image/png": "[encoded data removed]",
      "text/plain": [
       "<matplotlib.figure.Figure at 0x10e6d4790>"
      ]
     },
     "metadata": {},
     "output_type": "display_data"
    }
   ],
   "source": [
    "plt.scatter(data_frame['title_word_count'],data_frame['Shares'])\n",
    "plt.suptitle(\"Existe alguna relacion entre el numero de palabras en el Titulo y el Total de Shares\")\n",
    "plt.xlabel('Title Word Count')\n",
    "plt.ylabel(\"Shares\")"
   ]
  },
  {
   "cell_type": "markdown",
   "metadata": {},
   "source": [
    "# Pudiese haber una relacion entre la cantidad de palabras en el titulo y los shares, viendo que si el titulo tiene entre 7 a 11 palabras, puede irle bastante bien"
   ]
  },
  {
   "cell_type": "markdown",
   "metadata": {},
   "source": [
    "# ¿Existe alguna relación entre el número de palabras en el Título y el Total de Pageviews? "
   ]
  },
  {
   "cell_type": "code",
   "execution_count": 70,
   "metadata": {
    "collapsed": false
   },
   "outputs": [
    {
     "data": {
      "text/plain": [
       "<matplotlib.text.Text at 0x10eb704d0>"
      ]
     },
     "execution_count": 70,
     "metadata": {},
     "output_type": "execute_result"
    },
    {
     "data": {
      "image/png": "[encoded data removed]",
      "text/plain": [
       "<matplotlib.figure.Figure at 0x10ea63750>"
      ]
     },
     "metadata": {},
     "output_type": "display_data"
    }
   ],
   "source": [
    "plt.scatter(data_frame['title_word_count'],data_frame['Views'])\n",
    "plt.suptitle(\"Existe alguna relacion entre el numero de palabras en el Titulo y el Total de Pageviews\")\n",
    "plt.xlabel('Title Word Count')\n",
    "plt.ylabel(\"Views\")"
   ]
  },
  {
   "cell_type": "markdown",
   "metadata": {
    "collapsed": true
   },
   "source": [
    "# Igual que antes, parece haber una relacion en el titulos pequeños y los clicks que se les da. Parece que lo mejor es tener un titulo de 8 a 11 palabras como maximo"
   ]
  },
  {
   "cell_type": "markdown",
   "metadata": {},
   "source": [
    "# ¿Comentarios o Descubrimientos Adicionales?"
   ]
  },
  {
   "cell_type": "markdown",
   "metadata": {},
   "source": [
    "# Palabras importantes en los titulos"
   ]
  },
  {
   "cell_type": "code",
   "execution_count": 160,
   "metadata": {
    "collapsed": false
   },
   "outputs": [],
   "source": [
    "from collections import Counter"
   ]
  },
  {
   "cell_type": "code",
   "execution_count": 173,
   "metadata": {
    "collapsed": true
   },
   "outputs": [],
   "source": [
    "import numpy as np"
   ]
  },
  {
   "cell_type": "code",
   "execution_count": 180,
   "metadata": {
    "collapsed": true
   },
   "outputs": [],
   "source": [
    "from itertools import chain"
   ]
  },
  {
   "cell_type": "code",
   "execution_count": null,
   "metadata": {
    "collapsed": true
   },
   "outputs": [],
   "source": [
    "words = [a.split(\" \") for a in df['Title']]"
   ]
  },
  {
   "cell_type": "code",
   "execution_count": 174,
   "metadata": {
    "collapsed": false
   },
   "outputs": [],
   "source": [
    "result = Counter(chain.from_iterable(words))"
   ]
  },
  {
   "cell_type": "code",
   "execution_count": 181,
   "metadata": {
    "collapsed": false
   },
   "outputs": [
    {
     "name": "stdout",
     "output_type": "stream",
     "text": [
      "Counter({u'Christina Ricci creci\\xf3, \\xa1y AS\\xed de sexy se ve como Morticia Addams!': 1, u'Los mejores ejercicios para reducir el abdomen': 1, u'7 actitudes de un hombre mujeriego': 1, u'Las CLAVES para tener un orgasmo incre\\xedble': 1, u'Nueva foto de Demi Lovato en bikini revoluciona Instagram': 1, u'12 nuevos usos para la goma de borrar': 1, u'5 cosas que tu vagina est\\xe1 tratando de decirte y no te das cuenta': 1, u'10 Consejos de Osho sobre sexo': 1, u'7 trucos del Feng Shui para atraer el dinero a tu hogar': 1, u'8 tips para conseguir un trasero m\\xe1s grande en una semana': 1, u'Posiciones sexuales seg\\xfan tu personalidad': 1, u'5 cortes de cabello que te quitan a\\xf1os de encima': 1, u'3 cosas que jam\\xe1s debes hacer en la cama': 1, u'15 ideas de tatuajes minimalistas para mujeres': 1, u'8 cosas cotidianas que en Arabia Saudita est\\xe1n prohibidas': 1, u'7 cosas que excitan a los hombres': 1, u'Zonas er\\xf3genas de los hombres que debes saber': 1, u'10 usos para la vaselina que no podr\\xe1s creer': 1, u'Dime c\\xf3mo abrazas a tu novio y te dir\\xe9 qu\\xe9 tipo de relaci\\xf3n tienen': 1, u'As\\xed lucen 365 capas de maquillaje, \\xa1te dejar\\xe1n impactada!': 1, u'6 tips de sexo oral claves que debes saber': 1, u'Ser\\xe1s instant\\xe1neamente m\\xe1s fotog\\xe9nica luego de estos 15 trucos': 1, u'10 cosas asombrosas para las que sirve el polvo de talco': 1, u'10 alimentos ricos en fibra': 1, u'5 errores al besar que debes corregir YA': 1, u'4 frases hot para enviarle a tu novio por Whatsapp': 1, u'C\\xf3mo ense\\xf1arle a provocar tu orgasmo': 1, u'C\\xf3mo adelgazar el \\xe1rea del pubis': 1, u'Si buscas un cambio en tu cabello, no te RESISTIR\\xedS a estos looks': 1, u'7 se\\xf1ales que un hombre solo quiere sexo contigo': 1, u'\\xa1Este truco con VINAGRE es todo lo que necesitas saber para que tu manicura dure M\\xedS!': 1, u'10 tips para un cabello perfecto': 1, u'9 ideas para hacer la diferencia decorando con globos': 1, u'7 actitudes que delatan a un hombre que enga\\xf1a': 1, u'6 razones por las que un hombre te vuelve a buscar': 1, u'10 alimentos ricos en zinc': 1, u'3 hierbas para quitar el mal olor vaginal': 1, u'\\xbfTodo va bien con tu per\\xedodo? Estos 3 signos te demostrar\\xe1n que NO': 1, u'C\\xf3mo eliminar la grasa abdominal naturalmente': 1, u'Se\\xf1ales de un hombre NO interesado en ti': 1, u'\\xbfTu chico te complementa? Mira estos 7 tatuajes para compartir en pareja': 1, u'9 tatuajes tiernos y significativos para madre e hija': 1, u'17 tatuajes que toda mujer amar\\xeda tener': 1, u'Justin Bieber habla de la virginidad de Selena Gomez': 1, u'Descubre qu\\xe9 dice tu l\\xednea del coraz\\xf3n acerca de tus relaciones amorosas': 1, u'12 signos curiosos de que ser\\xe1s madre de una MUJER': 1, u'\\xa1Dime c\\xf3mo es tu rostro y te dir\\xe9 que flequillo te favorece!': 1, u'14 fotos de la INCRE\\xedBLE p\\xe9rdida de peso de Demi Lovato': 1, u'17 trenzas que te robar\\xe1n el ALIENTO': 1, u'La hipoxifilia, un pr\\xe1ctica sexual que no todos resisten': 1, u'\\xbfC\\xf3mo curar el dolor de o\\xeddo r\\xe1pidamente?': 1, u'Recupera tu cabello con jengibre': 1, u'6 cosas que tu novio quiere en el sexo pero que no se atreve a decirte': 1, u'\\xbfQu\\xe9 significa el punto rojo de las mujeres hind\\xfaes?': 1, u'\\xa1Averigua con este TEST qu\\xe9 tipo de mujer eres realmente!': 1, u'5 remedios naturales para los hongos de los pies': 1, u'\\xa1Tip f\\xe1cil! C\\xf3mo hacer helado con 2 ingredientes': 1, u'Famosos con deformidades f\\xedsicas que te sorprender\\xe1n': 1, u'11 casos de famosas que luc\\xedan m\\xe1s guapas antes de sus CIRUG\\xedAS': 1, u'La Ruda: Beneficios y precauciones': 1, u'Por qu\\xe9 se adelanta la regla': 1, u'6 h\\xe1bitos saludables que puedes comenzar en tu primer trimestre de embarazo': 1, u'10 ideas de tatuajes para hacerte con tu mejor amiga': 1, u'5 verdades sobre el sexo oral': 1, u'\\xbfUsas lentes? Estos 5 tips de maquillaje son justo para ti': 1, u'7 cosas que no sab\\xedas que puedes hacer con lim\\xf3n en el hogar': 1, u'C\\xf3mo concebir gemelos naturalmente': 1, u'C\\xf3mo adelgazar en una semana': 1, u'Los mejores trucos de delineado para cada tipo de ojos': 1, u'C\\xf3mo hacer salsa Alfredo': 1, u'9 tatuajes minimalistas para compartir con tu pareja': 1, u'\\xa1Conoce al Christian Grey italiano que acaba de ser sentenciado a 14 a\\xf1os de PRISI\\xc3\\u201cN!': 1, u'El problema de no alcanzar el orgasmo': 1, u'5 cosas raras que nos suceden a todas las mujeres': 1, u'Espiando a los famosos: 7 selfies de parejas \\xa1que nos encantaron!': 1, u'Kristen Stewart finalmente habla sobre su infidelidad a Robert Pattinson': 1, u'C\\xf3mo convertir palets en bonitos muebles para el hogar': 1, u'Mascarillas para blanquear la piel': 1, u'5 juguetes sexuales que tienes en tu dormitorio y no sab\\xedas': 1, u'Remedios caseros para bajar la barriga': 1, u'\\xbfPor qu\\xe9 no deber\\xedamos quitar el vello p\\xfabico?': 1, u'7 cosas que hacemos en la cama y que a ellos les ENCANTA m\\xe1s que otras': 1, u'Depilaci\\xf3n \\xedntima casera': 1, u'5 rasgos que los hombres encuentran ADORABLES en las mujeres': 1, u'10 signos de que podr\\xedas estar con un adicto a las relaciones \\xedntimas': 1, u'Estas cosas est\\xe1n DA\\xd1ANDO tu cuerpo y t\\xfa ni siquiera lo notas...': 1, u'Los famosos m\\xe1s sucios de Hollywood': 1, u'8 cosas que jam\\xe1s debes decirle a tu novio de tu pasado amoroso': 1, u'\\xbfQu\\xe9 es el sexo t\\xe1ntrico?': 1, u'Trucos para aclarar el cabello naturalmente': 1, u'Se\\xf1ales de que quiere pasar el resto de su vida contigo': 1, u'8 cosas que los hombres tienen miedo de pedir en la cama': 1, u'Sexercios: c\\xf3mo ser una reina en la cama': 1, u'Trucos para saber cu\\xe1ntos hijos tendr\\xe1s': 1, u'13 decoraciones para bodas reciclando frascos': 1, u'10 famosos que se pusieron m\\xe1s feos con los a\\xf1os': 1, u'7 cosas que NO debes hacer al depilarte tu zona \\xedntima': 1, u'No laves tu cabello por una semana, y esto es lo que suceder\\xe1...': 1, u'C\\xf3mo eliminar la grasa acumulada en el abdomen': 1, u'10 frases para tatuarse y sus significados': 1, u'5 dise\\xf1os de depilaci\\xf3n \\xedntima para enloquecer a tu pareja': 1, u'13 peinados EXPRESS para lucir guapa en minutos': 1, u'7 vitaminas para incrementar tu deseo sexual': 1, u'Angelica Kenova, la Barbie Humana que vive como una mu\\xf1eca': 1, u'Las ventajas de tener pechos peque\\xf1os': 1, u'7 telenovelas mexicanas que seguro viste en tu adolescencia (no lo niegues)': 1, u'Estos 25 TATUAJES de perritos te robar\\xe1n el coraz\\xf3n': 1, u'Barbie Humana hospitalizada tras fuerte golpiza': 1, u'El tatuaje ideal para cada personalidad': 1, u'Remedios caseros para quitar las estr\\xedas': 1, u'8 trucos para lograr un abdomen plano': 1, u'\\xbfCu\\xe1ntas personas hay en el mundo? Aqu\\xed te lo decimos y 2015 viene con un aumento': 1, u'5 recetas con patatas que morir\\xe1s por intentar': 1, u'15 formas de aprovechar los sobres de gel de s\\xedlice que no imaginabas': 1, u'Mitos y verdades de la primera vez': 1, u'H\\xe1bitos que da\\xf1an la salud de tu pene': 1, u'10 famosos que no son tan SEXY como creen': 1, u'5 famosas con anorexia': 1, u'6 actitudes de un hombre enamorado en silencio': 1, u'\\xa1Nicki Minaj y Miley Cyrus pelearon en el escenario de los MTV VMAs!': 1, u'6 cualidades que hacen a una mujer m\\xe1s atractiva': 1, u'\\xa1Al fin! Ariana Grande cambi\\xf3 de peinado y este es el resultado...': 1, u'8 se\\xf1ales de que un hombre es mujeriego': 1, u'\\xa1Impresionan! Conoce las bubble nails, una nueva tendencia': 1, u'Sorpr\\xe9ndete con estas 12 formas creativas de ordenar zapatos': 1, u'5 trucos para eliminar la joroba en la espalda': 1, u'5 tips para una depilaci\\xf3n \\xedntima perfecta': 1, u'9 pruebas de que te ves m\\xe1s hermosa con cabello atado': 1, u'5 trucos que seguro no conoces para delinear tus ojos': 1, u'Automasaje para reducir el abdomen': 1, u'4 cosas que los hombres NO notan de tu cuerpo': 1, u'Elige el color de tu cabello seg\\xfan tu signo': 1, u'4 mitos sobre tu vagina que siempre cre\\xedste y deber\\xedas olvidar': 1, u'Conoce las causas del flujo vaginal': 1, u'Ideas para reciclar pallets en el hogar': 1, u'12 famosos que asustan con su aspecto': 1, u'\\xa1Riqu\\xedsima! Aprend\\xe9 c\\xf3mo hacer una cheesecake con galletitas': 1, u'Si NO logras que tu cabello crezca, \\xa1estos trucos son para ti!': 1, u'7 verduras con las que puedes hacer una tortilla deliciosa': 1, u'4 bebidas que te ayudar\\xe1n a disminuir el ABDOMEN': 1, u'Una receta casera para los hongos en los pies': 1, u'10 se\\xf1ales de un hombre infiel': 1, u'7 trucos para hacer que un hombre te vuelva a buscar': 1, u'\\xbfSab\\xedas que seg\\xfan la ciencia heredamos la inteligencia de nuestra madre?': 1, u'\\xbfEl acondicionador antes del champ\\xfa? S\\xed, y esto es lo que dicen los expertos...': 1, u'Gu\\xeda r\\xe1pida para conseguir m\\xfaltiples orgasmos': 1, u'Las mejores posiciones sexuales seg\\xfan Esperanza G\\xf3mez, reina porno colombiana': 1, u'T\\xe9cnicas matinales para perder peso naturalmente': 1, u'Tatuajes para la espalda': 1, u'Un tatuaje para cada profesi\\xf3n, desc\\xfabre cu\\xe1l te corresponde': 1, u'7 tatuajes de PEL\\xedCULA': 1, u'\\xbfQu\\xe9 flor deber\\xedas tatuarte seg\\xfan tu SIGNO?': 1, u'7 prendas de ropa que enloquecen a los hombres y t\\xfa ni lo imaginas': 1, u'11 situaciones que demuestran que definitivamente \\xe9l es el INDICADO': 1, u'Si haces estas 7 cosas, eres GENIAL en la cama para los hombres': 1, u'10 cosas que los hombres miran de las mujeres': 1, u'7 se\\xf1ales de que no le gustas tanto': 1, u'Los 10 rostros m\\xe1s FEOS de Hollywood': 1, u'Qu\\xe9 siente un beb\\xe9 en el vientre cuando la madre tiene relaciones sexuales': 1, u'9 macetas recicladas que pod\\xe9s hacer vos misma': 1, u'12 cosas que los hombres les cuentan a sus amigos de una relaci\\xf3n': 1, u'La combinaci\\xf3n perfecta para adelgazar: el jengibre y el lim\\xf3n': 1, u'C\\xf3mo adelgazar la cara de forma efectiva': 1, u'7 partes de tu cuerpo que los hombres aman': 1, u'C\\xf3mo eliminar las manchas de la cara': 1, u'5 aderezos para ensaladas f\\xe1ciles y r\\xe1pidos': 1, u'4 cosas que encienden a los hombres en la cama': 1, u'\\xa1Descubre el motivo por el cual los chicos voltean para ver a otra chica!': 1, u'\\xa1Misterio revelado! As\\xed es como deber\\xedas delinear tus ojos seg\\xfan su forma...': 1, u'5 Enfermedades que previene la masturbaci\\xf3n': 1, u'Eliminar el exceso de vello facial o corporal naturalmente': 1, u'9 razones por las que t\\xfa y tus primas ser\\xe1n siempre AMIGAS inseparables': 1, u'Descubre qu\\xe9 fobia te representa seg\\xfan tu signo del zod\\xedaco': 1, u'5 mensajes que un hombre SIEMPRE contestar\\xe1': 1, u'6 formas de reducir tu cintura en tan solo una semana': 1, u'10 alimentos que aplanan tu panza y no sab\\xedas': 1, u'10 trucos para una piel perfecta': 1, u'7 trucos que lo volver\\xe1n loco en la cama \\xa1Pru\\xe9balos!': 1, u'\\xa1Adele revel\\xf3 la dieta con la que perdi\\xf3 68 kilos!': 1, u'Propiedades de la avena cruda': 1, u'10 tatuajes musicales que te robar\\xe1n el aliento': 1, u'Qu\\xe9 tan seguido deber\\xedas lavar tu sost\\xe9n y c\\xf3mo hacerlo': 1, u'7 ideas creativas para guardar zapatos en espacios peque\\xf1os': 1, u'\\xa1Mira este simple truco para que tu sost\\xe9n sin tirantes se mantenga en su lugar!': 1, u'11 tatuajes para recordar a tus AMIGAS por toda la vida': 1, u'\\xbfC\\xf3mo cuido mi vagina al tener relaciones sexuales?': 1, u'5 tratamientos naturales para el crecimiento de pesta\\xf1as': 1, u'Los 10 tatuajes de tobillo m\\xe1s ENCANTADORES': 1, u'15 Peinados con trenzas para pelo largo': 1, u'15 cosas que SOLO las chicas que no saben maquillarse entender\\xe1n': 1, u'Lim\\xf3n en ayunas para adelgazar: \\xbfbueno o malo?': 1, u'11 cosas que hacen estallar de CELOS a un hombre': 1, u'Los 5 tatuajes m\\xe1s SEXIES que puedes hacerte': 1, u'20 hermosas trenzas para cabello largo': 1, u'6 signos de que est\\xe1 contigo solamente por el SEXO': 1, u'Las mejores posiciones sexuales para llegar al orgasmo': 1, u'8 adorables fotos de Jennifer L\\xf3pez y sus gemelos en Instagram': 1, u'3 cosas que tu hombre quiere que le digas SIN RODEOS': 1, u'\\xbfTienes sexo con el hombre equivocado? Presta atenci\\xf3n a estas 7 se\\xf1ales': 1, u'Contraindicaciones de beber agua con lim\\xf3n': 1, u'Adorar\\xe1s estos 15 delicados tatuajes para tus dedos y, \\xa1sus significados!': 1, u'Posiciones sexuales seg\\xfan tu signo': 1, u'Los 10 platos m\\xe1s f\\xe1ciles de preparar': 1, u'\\xbfPor qu\\xe9 tomar t\\xe9 de jengibre?': 1, u'5 malos h\\xe1bitos que te envejecen r\\xe1pido': 1, u'15 dise\\xf1os de macetas que te robar\\xe1n el aliento': 1, u'9 tendencias que deber\\xe1s seguir en oto\\xf1o-invierno 2015': 1, u'Las mejores posiciones sexuales para la mujer': 1, u'\\xbfCompartir\\xedas un tatuaje con tu hermana? Mira estas 5 ideas': 1, u'Estos son los 18 accesorios de moda para ni\\xf1as que TODAS hemos usado en los 90': 1, u'10 incre\\xedbles ideas para reciclar perchas que te encantar\\xe1n': 1, u'9 cosas que no deber\\xedas acercar a tu VAGINA': 1, u'9 cosas que caracterizan a las chicas de Sagitario': 1, u'Los 10 tatuajes m\\xe1s comunes en las mujeres': 1, u'Las 6 Barbies humanas m\\xe1s impactantes del mundo': 1, u'\\xbfQu\\xe9 signo del zodiaco es el m\\xe1s compatible con tu personalidad?': 1, u'5 cosas que ellos odian que hagas despu\\xe9s del sexo': 1, u'8 formas infalibles de hacer que un chico te extra\\xf1e': 1, u'5 cosas que no sab\\xedas sobre la Barbie Humana': 1, u'13 tatuajes geom\\xe9tricos para inspirarte': 1, u'10 famosas que no esconden su celulitis': 1, u'Conoce a B\\xe1rbara Ferreira, la modelo que conquist\\xf3 Instagram por lucir orgullosa su cuerpo': 1, u'Esta mujer iran\\xed le dijo NO al velo y esto fue lo que sucedi\\xf3...': 1, u'Salir con un CHICO M\\xedS GRANDE es una experiencia genial que deber\\xedas intentar por estas razones': 1, u'Aprend\\xe9 cuando S\\xed y cuando NO usar delineador l\\xedquido': 1, u'11 ideas para reutilizar tus cajas de zapatos': 1, u'7 tipos de HOMBRES que deber\\xedas evitar': 1, u'10 famosas que ABORTARON y no lo sab\\xedas': 1, u'Mayonesa para el cabello': 1, u'C\\xf3mo tener el pelo lacio sin planchita': 1, u'5 remedios caseros para la piel grasa': 1, u'Ideas de tatuajes para mujeres': 1, u'El \\xfanico h\\xe1bito que te har\\xe1 adelgazar de verdad': 1, u'Beneficios del vinagre de manzana en ayunas': 1, u'Tu per\\xedodo menstrual no es normal si te ocurren estas 3 cosas': 1, u'\\xa1As\\xed luc\\xeda Miley Cyrus en los VMAs 6 a\\xf1os atr\\xe1s!': 1, u'10 verdades sobre la vagina': 1, u'C\\xf3mo eres en la cama seg\\xfan tu signo': 1, u'20 tatuajes de amistad s\\xfaper cancheros que te van a encantar': 1, u'6 posiciones sexuales para hacer en el auto': 1, u'\\xa1Descubre esta innovadora y sencilla t\\xe9cnica japonesa para PERDER PESO!': 1, u'Ejercicios para tener una cintura de avispa': 1, u'15 Incre\\xedbles ideas creativas para reciclar latas': 1, u'C\\xf3mo enamorar a un hombre mujeriego': 1, u'\\xa1NO podr\\xe1s creerlo! Estas son las 17 cosas que m\\xe1s causan CELULITIS': 1, u'Por qu\\xe9 usar gel \\xedntimo puede hacer la diferencia al mantener relaciones': 1, u'Sorpr\\xe9ndete con estos 5 trucos de maquillaje que nadie te ha contado': 1, u'6 posiciones hot para innovar con tu pareja': 1, u'5 consejos pr\\xe1cticos para decorar tu nueva casa': 1, u'7 looks que debes tener antes de los 30': 1, u'C\\xf3mo dise\\xf1ar un terrario para el interior del hogar': 1, u'Estos 5 mensajes de texto encender\\xe1n la pasi\\xf3n en tu pareja': 1, u'\\xbfQu\\xe9 dice tu cumplea\\xf1os de tu VIDA SEXUAL?': 1, u'5 trucos infalibles para llegar al orgasmo': 1, u'Piojos: trucos caseros para eliminarlos': 1, u'Formas naturales de alargar las pesta\\xf1as': 1, u'Los 5 mejores cortes de cabello para treinta\\xf1eras': 1, u'6 errores que cometemos al aplicar el maquillaje que debemos evitar': 1, u'Descubre lo que tu color favorito dice de ti': 1, u'\\xbfCu\\xe1ndo dejan de crecernos los senos a las mujeres?': 1, u'Haz estos lindos candelabros colgantes con frascos de vidrio': 1, u'5 cosas que ELLOS adoran en silencio de la mujer que aman': 1, u'7 cosas que nadie te dice sobre el sexo oral y que deber\\xedas saber': 1, u'11 situaciones en las que \\xe9l demuestra que te ama sin decirlo': 1, u'Alimentos que NO debes comer antes del sexo': 1, u'Estas son las 7 mejores formas de seducir a un hombre (sin usar la apariencia)': 1, u'7 signos de que le atraes a un hombre t\\xedmido': 1, u'10 cosas que deber\\xedas sentir si REALMENTE lo amas': 1, u'5 se\\xf1ales de que tu pareja podr\\xeda estar enga\\xf1\\xe1ndote': 1, u'Conoc\\xe9 qu\\xe9 son los terrarios y amalos tanto como nosotras': 1, u'Los looks que a los hombres NO les gustan': 1, u'Tipos de orgasmos femeninos y c\\xf3mo alcanzarlos': 1, u'8 mujeres que NO deber\\xedan tomar p\\xedldoras anticonceptivas': 1, u'Personaliza tus tapas de luz con esta genial idea': 1, u'Tips para un juego previo m\\xe1s placentero': 1, u'5 razones por las que los hombres AMAN a las mujeres bajitas': 1, u'5 posiciones sexuales para estimular el punto G': 1, u'4 personas que NO deber\\xedan consumir jengibre': 1, u'7 gestos de un hombre enamorado': 1, u'Esto es lo que toda mujer deber\\xeda hacer luego de tener relaciones sexuales': 1, u'Los significados de 3 gestos tiernos comunes en los hombres': 1, u'5 cosas del orgasmo femenino que los hombre JAM\\xedS entender\\xe1n': 1, u'5 claves para verte desnuda y sentirte HERMOSA': 1, u'\\xbfQu\\xe9 aprende un beb\\xe9 en el vientre de su mam\\xe1?': 1, u'8 cosas que no sab\\xedas sobre el Punto G': 1, u'\\xbfPor qu\\xe9 los hombres se despiertan con una erecci\\xf3n?': 1, u'\\xbfQu\\xe9 tan buena eres haciendo sexo oral? Aver\\xedgualo con este test': 1, u'9 cosas que NO debes hacer la primera vez con un chico': 1, u'Estas son las 7 cosas que deber\\xedas controlar cuando besas': 1, u'22 ideas creativas para decorar frascos de vidrio': 1, u'6 zonas del cuerpo para TATUARTE que no interferir\\xe1n con tu empleo': 1, u'Gu\\xeda paso a paso para un buen sexo oral': 1, u'7 alimentos para liberarse de la hinchaz\\xf3n y tener un vientre plano': 1, u'Tips para blanquear los dientes de forma natural': 1, u'El jengibre y sus beneficios para la salud': 1, u'8 gestos corporales de un hombre enamorado de ti': 1, u'7 razones por las que un hombre te sigue buscando': 1, u'7 Alimentos que te envejecen': 1, u'6 ideas de rellenos para tortas de cumplea\\xf1os': 1, u'\\xbfNo te animas a un cambio radical en tu cabello? \\xa1Prueba estos 7 cambios temporales!': 1, u'11 ideas para organizar las tapas de las ollas': 1, u'Esta es la realidad de TODAS las fotos de Instagram': 1, u'La zona er\\xf3gena de tu chico seg\\xfan su SIGNO': 1, u'Qu\\xe9 comer para aumentar los gl\\xfateos': 1, u'\\xbfSab\\xedas que tender la cama es malo para tu salud?': 1, u'Estas son las 11 cualidades de una chica VIRGO': 1, u'\\xbfCu\\xe1l es la forma correcta de colocar el papel higi\\xe9nico, por encima o por debajo?': 1, u'Si \\xe9l hace estas 13 cosas es porque est\\xe1 LOCO por ti': 1, u'\\xbfQuieres un ABDOMEN plano? Estos 10 snacks S\\xed est\\xe1n permitidos': 1, u'7 cosas sin sentido por las que tu piel se est\\xe1 llenando de granitos': 1, u'9 formas originales de reciclar cubiertas de neum\\xe1ticos': 1, u'Descuidos femeninos que los hombres detestan': 1, u'11 estupendas maneras de reciclar los tubos del papel higi\\xe9nico': 1, u'5 formas de saber si intimidas a un hombre': 1, u'Si amas las trenzas, estos 32 peinados ser\\xe1n tus favoritos': 1, u'\\xbfCu\\xe1ntas veces a la semana se considera normal tener relaciones?': 1, u'\\xbfPor qu\\xe9 no deber\\xedas usar tu sujetador por m\\xe1s de 7 horas?': 1, u'C\\xf3mo quitar las ojeras naturalmente': 1, u'C\\xf3mo enloquecer a un hombre en la cama': 1, u'\\xbfCu\\xe1l es el peso ideal seg\\xfan la estatura?': 1, u'10 alimentos ricos en magnesio': 1, u'Descubre por qu\\xe9 ENGA\\xd1A cada signo del zodiaco': 1, u'C\\xf3mo alisar el pelo naturalmente': 1, u'Beneficios y usos medicinales del fenogreco': 1, u'C\\xf3mo lograr unos gl\\xfateos perfectos en solo 30 d\\xedas': 1, u'La mejor crema antiarrugas casera': 1, u'Tipos de ejercicios para bajar la barriga': 1, u'15 cosas que solo las mujeres de pelo largo entender\\xe1n': 1, u'Crema casera para alisar el cabello': 1, u'\\xbfC\\xf3mo imaginas el crecimiento de tu beb\\xe9 en el vientre? Estas fotos te lo mostrar\\xe1n': 1, u'Lubricantes naturales para nuestras relaciones': 1, u'10 mandamientos de la m\\xe1scara de pesta\\xf1as que deber\\xedas conocer': 1, u'8 tatuajes inspiradores para madre e hija': 1, u'Disfraces de Halloween para mujeres': 1, u'10 errores que las mujeres cometemos en la cama y que deber\\xedamos evitar seg\\xfan los hombres': 1, u'\\xa1Obt\\xe9n un trasero perfecto en tan solo 13 ejercicios!': 1, u'C\\xf3mo preparar el adobo perfecto para condimentar pollo': 1, u'Aprende c\\xf3mo hacer rollitos de pan de forma': 1, u'22 famosas que lucen HERMOSAS sin maquillaje': 1, u'5 tips para transformar tus ojos con maquillaje que no te puedes perder': 1, u'Este chico descubri\\xf3 que su esposa est\\xe1 embarazada de una forma espectacular': 1, u'S\\xedntomas de tiroides en mujeres': 1, u'5 formas en que su pene puede enfermarte': 1, u'\\xbfTe gustar\\xeda depilarte con az\\xfacar? Conoce este m\\xe9todo de depilaci\\xf3n natural': 1, u'10 cortes de cabello que te har\\xe1n lucir 10 a\\xf1os m\\xe1s joven': 1, u'Ideas para reciclar cajones de frutas': 1, u'Los 10 mejores make-up para este Halloween': 1, u'Jugos para reducir la cintura y el abdomen': 1, u'10 verdades sobre los senos que no sab\\xedas': 1, u'15 fotos de la Barbie Humana sin maquillaje': 1, u'5 cosas que los hombres quieren en la cama': 1, u'Localizan finalmente al Punto G': 1, u'9 tatuajes para compartir en familia': 1, u'8 gestos femeninos que ellos aman': 1, u'\\xbfPor qu\\xe9 pican y duelen los senos?': 1, u'\\xa1Alerta! 9 signos de que tu chico es propenso a enga\\xf1arte': 1, u'10 pasos para bajar la barriga': 1, u'5 formas extra\\xf1as de quedar embarazada': 1, u'8 frases que ellos aman escuchar en la cama': 1, u'Las 10 famosas m\\xe1s bajitas de Hollywood': 1, u'10 cosas que no sab\\xedas sobre tus PECHOS': 1, u'\\xbfPor qu\\xe9 algunos hombres infieles no dejan a sus esposas?': 1, u'Propiedades y beneficios de la clorofila': 1, u'10 grandiosas manualidades con troncos para el hogar': 1, u'Tus pesta\\xf1as se ver\\xe1n espectaculares con estos 5 remedios naturales': 1, u'7 signos de que lo vuelves loco': 1, u'Problemas derivados de no tener relaciones sexuales': 1, u'Motivos que no sab\\xedas por los que no pierdes grasa abdominal': 1, u'28 creativas ideas para reciclar botellas pl\\xe1sticas': 1, u'Si tu abuela conserva una m\\xe1quina de coser, tienes que ver estas 11 geniales ideas para reciclarlas': 1, u'No te pierdas las fotos del debut de Juanita Tinelli como modelo': 1, u'11 cosas que deber\\xedas decirle a tu pareja adem\\xe1s de \\u20ac\\u0153te amo\\u20ac\\x9d': 1, u'6 frases hot que tu chico est\\xe1 esperando que le digas': 1, u'7 se\\xf1ales de que tu novio ser\\xe1 un gran marido': 1, u'\\xbfEn qu\\xe9 ciudad deber\\xedas vivir seg\\xfan tu SIGNO?': 1, u'Trucos caseros para lucir piernas sensuales': 1, u'\\xa1WOW! 9 hermosos tatuajes para celebrar la vida': 1, u'El por qu\\xe9 de los gemidos femeninos': 1, u'\\xbfQu\\xe9 color de u\\xf1as va mejor con tu SIGNO? \\xa1Te lo contamos!': 1, u'Si te est\\xe1n pasando estas 11 cosas es que est\\xe1s m\\xe1s que enamorada... \\xa1As\\xfamelo!': 1, u'Posiciones sexuales para mejorar la intimidad en la pareja': 1, u'Los hombres m\\xe1s infieles seg\\xfan el Zod\\xedaco': 1, u'Trucos caseros para hacer crecer las pesta\\xf1as': 1, u'Hay un pa\\xeds donde una mujer puede casarse con M\\xedS de un hombre y es...': 1, u'C\\xf3mo hacer waffles': 1, u'Una mam\\xe1 cometi\\xf3 este GRAN ERROR al amamantar a su beb\\xe9': 1, u'\\xa1Primera foto de Miley Cyrus y Stella Maxwell bes\\xe1ndose!': 1, u'Estos 20 h\\xe1bitos alimenticios cambiar\\xe1n tu VIDA (\\xa1y tu peso!)': 1, u'5 se\\xf1ales de que necesitas un tatuaje ya mismo': 1, u'5 formas de saber si eres buena en la cama': 1, u'10 IMPACTANTES fotos de los nuevos abdominales de la Barbie Humana': 1, u'Cortes de pelo seg\\xfan el rostro': 1, u'13 cosas que hacen que tu casa luzca desordenada (aunque no lo est\\xe9)': 1, u'10 ingeniosos accesorios para mam\\xe1s con hijos peque\\xf1os': 1, u'7 hermosas trenzas para hacer en menos de 5 minutos': 1, u'C\\xf3mo afecta la masturbaci\\xf3n en la testosterona': 1, u'6 maneras de cocinar con pollo sin aburrirte': 1, u'\\xa1Wow! Estas 19 trenzas te har\\xe1n lucir HERMOSA': 1, u'C\\xf3mo conquistar a un hombre por mensajes de texto': 1, u'C\\xf3mo perder 6 kilos sin hacer dieta': 1, u'7 cosas que JAM\\xedS deber\\xedas ocultarle a tu ginec\\xf3logo': 1, u'Los juegos previos que ellos aman': 1, u'20 fotos de la Barbie Humana que te sorprender\\xe1n': 1, u'7 cosas que le pasar\\xe1n a tu cuerpo cuando dejes la pastilla anticonceptiva': 1, u'Posiciones sexuales preferidas por los hombres': 1, u'Juegos sexuales para parejas': 1, u'9 secretos para que tu pareja sea PARA SIEMPRE': 1, u'\\xa1Abdomen para la envidia!': 1, u'Significados del anillo de compromiso que no conoc\\xedas': 1, u'10 tips de sexo oral de mujeres reales': 1, u'9 besos que a ELLOS los vuelven LOCOS': 1, u'7 secretos para verte divina despu\\xe9s de los 40': 1, u'Las 7 frases m\\xe1s inspiradoras para tatuarte': 1, u'\\xbfPor qu\\xe9 las musulmanas deben cubrirse la cabeza?': 1, u'4 pasos para tener un abdomen sin grasa': 1, u'10 frases para volver loco a un hombre': 1, u'Nombres para beb\\xe9s raros pero bonitos': 1, u'Estos son los 6 lugares menos dolorosos para TATUARSE': 1, u'7 delicados tatuajes para la espalda y sus significados': 1, u'Las mujeres con un cutis impecable adoptaron estos 6 h\\xe1bitos, \\xbfser\\xe1s una de ellas?': 1, u'C\\xf3mo dar un beso apasionado perfecto': 1, u'15 curiosidades sobre la salud de tu vagina': 1, u'7 diferencias entre tener sexo y hacer el amor': 1, u'\\xa1Tu mu\\xf1eca tambi\\xe9n puede ser inspiradora! Mira estos tatuajes...': 1, u'Tips simples e ingeniosos que no se te hab\\xedan ocurrido para tu ropa interior': 1, u'4 posiciones para el sexo oral': 1, u'Los 10 c\\xf3cteles m\\xe1s sencillos de preparar': 1, u'4 pasos para excitar a un hombre en la cama': 1, u'13 signos curiosos de que ser\\xe1s madre de un VARONCITO': 1, u'14 perritos que se durmieron en los lugares y las posiciones m\\xe1s ins\\xf3litas': 1, u'7 Conductas da\\xf1inas que tenemos cuando estamos enamorados': 1, u'Comienza bien el d\\xeda con estos 5 desayunos f\\xe1ciles y r\\xe1pidos': 1, u'Torta de naranja, ideal para la hora del t\\xe9': 1, u'Lavarse el pelo con Coca Cola, la nueva moda de las bloggers de belleza': 1, u'5 conversaciones de sexo que deber\\xedas tener con tu pareja': 1, u'Estas son las 7 excusas que ellos dan cuando enga\\xf1an': 1, u'7 formas de usar los cartones de huevos': 1, u'Conoce estos 6 trucos para sacarle el m\\xe1ximo provecho a WhatsApp': 1, u'7 consejos sobre masturbaci\\xf3n para principiantes': 1, u'7 secretos sobre sexo de los profesionales': 1, u'5 secretos para adelgazar y no volver a tu peso NUNCA M\\xedS': 1, u'6 cosas que un chico hace cuando quiere una relaci\\xf3n seria con una mujer': 1, u'Mi peso ideal seg\\xfan mi altura': 1, u'Previene las ara\\xf1itas con ESTE sencillo h\\xe1bito...': 1, u'Las 7 cosas diarias que debes hacer si quieres un cabello fabuloso': 1, u'7 datos sobre el vello p\\xfabico que te dar\\xe1n curiosidad conocer': 1, u'7 trucos para tener una vagina feliz y saludable': 1, u'\\xbfQu\\xe9 es el orgasmo cervical?': 1, u'\\xa1An\\xedmate! Estos son los 5 mejores momentos del d\\xeda para masturbarte': 1, u'\\xbfSe puede tener relaciones con el per\\xedodo?': 1, u'Trucos para concebir gemelos': 1, u'6 cosas que ellos de verdad piensan al verte desnuda': 1, u'Un descubrimiento que nos dej\\xf3 con la boca abierta a TODAS': 1, u'4 cosas que deber\\xedas decirle a un hombre desnudo': 1, u'9 veces en las que Miley Cyrus olvid\\xf3 DEPILARSE para la foto': 1, u\"6 ideas GENIALES para reciclar tus CD's viejos\": 1, u'Los 7 secretos sexuales de los hombres': 1, u'Qu\\xe9 dice tu corte de pelo de ti': 1, u'8 tipos de besos excitantes para conquistarlo': 1, u'9 se\\xf1ales de que un hombre no respeta a su pareja': 1, u'5 maneras de eliminar el mal aliento': 1, u'\\xbfEres dormilona? 11 momentos con los que te identificar\\xe1s (y que pocos entienden)': 1, u'9 situaciones que te demostrar\\xe1n que ya NO est\\xe1s enamorada': 1, u'6 errores de las mujeres en la cama que NO excitan a los hombres': 1, u'C\\xf3mo hacer que un chico te extra\\xf1e': 1, u'6 errores comunes en el sexo oral': 1, u'Los 35 gorros para ni\\xf1os en crochet m\\xe1s tiernos que ver\\xe1s': 1, u'Obvias se\\xf1ales de que le gustas a un hombre': 1, u'La limpieza del colon para perder peso': 1, u'5 frases para aumentar la pasi\\xf3n en la cama': 1, u'10 cosas que un hombre ve muy poco atractivas en una mujer': 1, u'\\xbfEl TAMA\\xd1O importa? Cient\\xedficos descubrieron c\\xf3mo es el pene perfecto': 1, u'10 tatuajes delicados para mujeres': 1, u'11 secretos para que un hombre se enamore PERDIDAMENTE de ti': 1, u'Consume este t\\xe9 y... \\xa1reduce barriga!': 1, u'3 infusiones caseras para reducir grasa en el abdomen': 1, u'El microbikini de Miley Cyrus': 1, u'\\xbfPor qu\\xe9 algunos ni\\xf1os se masturban?': 1, u'5 frases para enloquecer a un hombre': 1, u'\\xa1ABS para el INFARTO! Prueba estos 8 ejercicios y logra un abdomen de acero': 1, u'\\xa1Al fin! 5 remedios naturales para acabar con el frizz para siempre': 1, u'C\\xf3mo eliminar los puntos negros con sal': 1, u'Si tienes un AMIGO CON BENEFICIOS ten en cuenta estos 10 mandamientos': 1, u'7 errores al te\\xf1ir tu cabello en casa que lamentar\\xe1s': 1, u'\\xbfQu\\xe9 tipo de mujer eres en la cama? \\xa1Desc\\xfabrelo con este Quiz!': 1, u'7 tatuajes en los dedos que te encantar\\xe1n': 1, u'8 se\\xf1ales de que una mujer necesita sexo': 1, u'C\\xf3mo hacer crecer el busto naturalmente': 1, u'Un remedio casero para combatir las estr\\xedas': 1, u'7 cosas acerca del sexo que no vas a poder creer': 1, u'Las 9 cosas que ELLOS quieren que hagamos en la cama': 1, u'Si identificas estas 5 se\\xf1ales en tu pareja, \\xa1esa relaci\\xf3n no es para ti!': 1, u'9 cosas que no sab\\xedas sobre tus PEZONES': 1, u'6 errores de los hombres que no excitan una mujer': 1, u'10 se\\xf1ales de que tu gato te ama': 1, u'5 trucos b\\xe1sicos de maquillaje de ojos que todas deber\\xedamos conocer': 1, u'Bonitos muebles reciclados en base a valijas y escaleras': 1, u'C\\xf3mo tener m\\xe1s placer durante el sexo': 1, u'4 cosas que excitan a los hombres de una MUJER': 1, u'6 beneficios de no tener sexo': 1})\n"
     ]
    }
   ],
   "source": [
    "print result"
   ]
  },
  {
   "cell_type": "code",
   "execution_count": null,
   "metadata": {
    "collapsed": true
   },
   "outputs": [],
   "source": []
  }
 ],
 "metadata": {
  "kernelspec": {
   "display_name": "Python 2",
   "language": "python",
   "name": "python2"
  },
  "language_info": {
   "codemirror_mode": {
    "name": "ipython",
    "version": 2
   },
   "file_extension": ".py",
   "mimetype": "text/x-python",
   "name": "python",
   "nbconvert_exporter": "python",
   "pygments_lexer": "ipython2",
   "version": "2.7.10"
  }
 },
 "nbformat": 4,
 "nbformat_minor": 0
}
