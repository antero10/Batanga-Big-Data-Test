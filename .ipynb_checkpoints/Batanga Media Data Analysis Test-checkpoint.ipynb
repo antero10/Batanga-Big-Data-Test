{
 "cells": [
  {
   "cell_type": "code",
   "execution_count": 15,
   "metadata": {
    "collapsed": true
   },
   "outputs": [],
   "source": [
    "import pandas as pd"
   ]
  },
  {
   "cell_type": "code",
   "execution_count": 44,
   "metadata": {
    "collapsed": false
   },
   "outputs": [],
   "source": [
    "%matplotlib inline\n",
    "import matplotlib.pyplot as plt"
   ]
  },
  {
   "cell_type": "code",
   "execution_count": 45,
   "metadata": {
    "collapsed": true
   },
   "outputs": [],
   "source": [
    "data_frame = pd.read_excel(\"test.xlsx\")"
   ]
  },
  {
   "cell_type": "code",
   "execution_count": 46,
   "metadata": {
    "collapsed": false
   },
   "outputs": [
    {
     "data": {
      "text/html": [
       "<div>\n",
       "<table border=\"1\" class=\"dataframe\">\n",
       "  <thead>\n",
       "    <tr style=\"text-align: right;\">\n",
       "      <th></th>\n",
       "      <th>Title</th>\n",
       "      <th>Publish Date</th>\n",
       "      <th>Section</th>\n",
       "      <th>Tags</th>\n",
       "      <th>Sort (Views)</th>\n",
       "      <th>Visitors</th>\n",
       "      <th>Views</th>\n",
       "      <th>Engaged Minutes</th>\n",
       "      <th>Shares</th>\n",
       "      <th>Desktop Views</th>\n",
       "      <th>...</th>\n",
       "      <th>Search Refs</th>\n",
       "      <th>Internal Refs</th>\n",
       "      <th>Other Refs</th>\n",
       "      <th>Direct Refs</th>\n",
       "      <th>New Vis</th>\n",
       "      <th>Returning Vis</th>\n",
       "      <th>Views New Vis.</th>\n",
       "      <th>Views Ret. Vis.</th>\n",
       "      <th>Minutes New Vis.</th>\n",
       "      <th>Minutes Ret. Vis.</th>\n",
       "    </tr>\n",
       "  </thead>\n",
       "  <tbody>\n",
       "    <tr>\n",
       "      <th>0</th>\n",
       "      <td>Qué siente un bebé en el vientre cuando la mad...</td>\n",
       "      <td>2014-06-19 19:00:00</td>\n",
       "      <td>Familia</td>\n",
       "      <td>vida sexual femenina,comunicacion con el bebe,...</td>\n",
       "      <td>2032660</td>\n",
       "      <td>1799957</td>\n",
       "      <td>2032660</td>\n",
       "      <td>1909892</td>\n",
       "      <td>19566</td>\n",
       "      <td>403304</td>\n",
       "      <td>...</td>\n",
       "      <td>26666</td>\n",
       "      <td>26441</td>\n",
       "      <td>522790</td>\n",
       "      <td>600407</td>\n",
       "      <td>1391120</td>\n",
       "      <td>429155</td>\n",
       "      <td>1537286</td>\n",
       "      <td>495372</td>\n",
       "      <td>1479120</td>\n",
       "      <td>430771</td>\n",
       "    </tr>\n",
       "    <tr>\n",
       "      <th>1</th>\n",
       "      <td>17 tatuajes que toda mujer amaría tener</td>\n",
       "      <td>2015-05-21 08:00:00</td>\n",
       "      <td>Belleza</td>\n",
       "      <td>piel,cuidados de la piel,Mujeres,tatuajes</td>\n",
       "      <td>1781700</td>\n",
       "      <td>1360538</td>\n",
       "      <td>1781700</td>\n",
       "      <td>1348435</td>\n",
       "      <td>93632</td>\n",
       "      <td>350615</td>\n",
       "      <td>...</td>\n",
       "      <td>31624</td>\n",
       "      <td>49391</td>\n",
       "      <td>53252</td>\n",
       "      <td>493505</td>\n",
       "      <td>1020454</td>\n",
       "      <td>407702</td>\n",
       "      <td>1183943</td>\n",
       "      <td>597756</td>\n",
       "      <td>902278</td>\n",
       "      <td>446156</td>\n",
       "    </tr>\n",
       "    <tr>\n",
       "      <th>2</th>\n",
       "      <td>Las mejores posiciones sexuales según Esperanz...</td>\n",
       "      <td>2014-10-29 16:47:00</td>\n",
       "      <td>Pareja</td>\n",
       "      <td>mujeres sexys,sexualidad,Actrices,el estilo de...</td>\n",
       "      <td>1161996</td>\n",
       "      <td>919771</td>\n",
       "      <td>1161996</td>\n",
       "      <td>1532956</td>\n",
       "      <td>2056</td>\n",
       "      <td>12840</td>\n",
       "      <td>...</td>\n",
       "      <td>5904</td>\n",
       "      <td>560</td>\n",
       "      <td>1095115</td>\n",
       "      <td>48168</td>\n",
       "      <td>635002</td>\n",
       "      <td>315815</td>\n",
       "      <td>763930</td>\n",
       "      <td>398064</td>\n",
       "      <td>1027991</td>\n",
       "      <td>504965</td>\n",
       "    </tr>\n",
       "    <tr>\n",
       "      <th>3</th>\n",
       "      <td>4 posiciones para el sexo oral</td>\n",
       "      <td>2014-05-23 08:56:00</td>\n",
       "      <td>Pareja</td>\n",
       "      <td>sexualidad,tips,sexo</td>\n",
       "      <td>925858</td>\n",
       "      <td>774496</td>\n",
       "      <td>925858</td>\n",
       "      <td>722693</td>\n",
       "      <td>1441</td>\n",
       "      <td>79193</td>\n",
       "      <td>...</td>\n",
       "      <td>184530</td>\n",
       "      <td>248227</td>\n",
       "      <td>309763</td>\n",
       "      <td>132809</td>\n",
       "      <td>523292</td>\n",
       "      <td>257296</td>\n",
       "      <td>597597</td>\n",
       "      <td>328261</td>\n",
       "      <td>467838</td>\n",
       "      <td>254854</td>\n",
       "    </tr>\n",
       "    <tr>\n",
       "      <th>4</th>\n",
       "      <td>22 famosas que lucen HERMOSAS sin maquillaje</td>\n",
       "      <td>2015-07-31 23:00:00</td>\n",
       "      <td>Famosos</td>\n",
       "      <td>fotos de famosos,fotos de celebridades,famosas...</td>\n",
       "      <td>882087</td>\n",
       "      <td>750048</td>\n",
       "      <td>882087</td>\n",
       "      <td>793876</td>\n",
       "      <td>35294</td>\n",
       "      <td>244990</td>\n",
       "      <td>...</td>\n",
       "      <td>2478</td>\n",
       "      <td>2505</td>\n",
       "      <td>22312</td>\n",
       "      <td>113418</td>\n",
       "      <td>595509</td>\n",
       "      <td>169403</td>\n",
       "      <td>668436</td>\n",
       "      <td>213651</td>\n",
       "      <td>593643</td>\n",
       "      <td>200232</td>\n",
       "    </tr>\n",
       "  </tbody>\n",
       "</table>\n",
       "<p>5 rows × 23 columns</p>\n",
       "</div>"
      ],
      "text/plain": [
       "                                               Title        Publish Date  \\\n",
       "0  Qué siente un bebé en el vientre cuando la mad... 2014-06-19 19:00:00   \n",
       "1            17 tatuajes que toda mujer amaría tener 2015-05-21 08:00:00   \n",
       "2  Las mejores posiciones sexuales según Esperanz... 2014-10-29 16:47:00   \n",
       "3                     4 posiciones para el sexo oral 2014-05-23 08:56:00   \n",
       "4       22 famosas que lucen HERMOSAS sin maquillaje 2015-07-31 23:00:00   \n",
       "\n",
       "   Section                                               Tags  Sort (Views)  \\\n",
       "0  Familia  vida sexual femenina,comunicacion con el bebe,...       2032660   \n",
       "1  Belleza          piel,cuidados de la piel,Mujeres,tatuajes       1781700   \n",
       "2   Pareja  mujeres sexys,sexualidad,Actrices,el estilo de...       1161996   \n",
       "3   Pareja                               sexualidad,tips,sexo        925858   \n",
       "4  Famosos  fotos de famosos,fotos de celebridades,famosas...        882087   \n",
       "\n",
       "   Visitors    Views  Engaged Minutes  Shares  Desktop Views  \\\n",
       "0   1799957  2032660          1909892   19566         403304   \n",
       "1   1360538  1781700          1348435   93632         350615   \n",
       "2    919771  1161996          1532956    2056          12840   \n",
       "3    774496   925858           722693    1441          79193   \n",
       "4    750048   882087           793876   35294         244990   \n",
       "\n",
       "         ...          Search Refs  Internal Refs  Other Refs  Direct Refs  \\\n",
       "0        ...                26666          26441      522790       600407   \n",
       "1        ...                31624          49391       53252       493505   \n",
       "2        ...                 5904            560     1095115        48168   \n",
       "3        ...               184530         248227      309763       132809   \n",
       "4        ...                 2478           2505       22312       113418   \n",
       "\n",
       "   New Vis  Returning Vis  Views New Vis.  Views Ret. Vis.  Minutes New Vis.  \\\n",
       "0  1391120         429155         1537286           495372           1479120   \n",
       "1  1020454         407702         1183943           597756            902278   \n",
       "2   635002         315815          763930           398064           1027991   \n",
       "3   523292         257296          597597           328261            467838   \n",
       "4   595509         169403          668436           213651            593643   \n",
       "\n",
       "   Minutes Ret. Vis.  \n",
       "0             430771  \n",
       "1             446156  \n",
       "2             504965  \n",
       "3             254854  \n",
       "4             200232  \n",
       "\n",
       "[5 rows x 23 columns]"
      ]
     },
     "execution_count": 46,
     "metadata": {},
     "output_type": "execute_result"
    }
   ],
   "source": [
    "data_frame.head()"
   ]
  },
  {
   "cell_type": "code",
   "execution_count": 47,
   "metadata": {
    "collapsed": false
   },
   "outputs": [
    {
     "data": {
      "text/plain": [
       "Index([            u'Title',      u'Publish Date',           u'Section',\n",
       "                    u'Tags',      u'Sort (Views)',          u'Visitors',\n",
       "                   u'Views',   u'Engaged Minutes',            u'Shares',\n",
       "           u'Desktop Views',      u'Mobile Views',      u'Tablet Views',\n",
       "             u'Social Refs',       u'Search Refs',     u'Internal Refs',\n",
       "              u'Other Refs',       u'Direct Refs',           u'New Vis',\n",
       "           u'Returning Vis',    u'Views New Vis.',   u'Views Ret. Vis.',\n",
       "        u'Minutes New Vis.', u'Minutes Ret. Vis.'],\n",
       "      dtype='object')"
      ]
     },
     "execution_count": 47,
     "metadata": {},
     "output_type": "execute_result"
    }
   ],
   "source": [
    "data_frame.columns"
   ]
  },
  {
   "cell_type": "markdown",
   "metadata": {},
   "source": [
    "# Top 10 Tags por # Shares"
   ]
  },
  {
   "cell_type": "code",
   "execution_count": 48,
   "metadata": {
    "collapsed": true
   },
   "outputs": [],
   "source": [
    "tags = data_frame.sort(\"Shares\",ascending=False)"
   ]
  },
  {
   "cell_type": "code",
   "execution_count": 49,
   "metadata": {
    "collapsed": false
   },
   "outputs": [
    {
     "data": {
      "text/plain": [
       "u'vida sexual femenina,comunicacion con el bebe,Curiosidades,sexo,cuidados del bebe,size-m'"
      ]
     },
     "execution_count": 49,
     "metadata": {},
     "output_type": "execute_result"
    }
   ],
   "source": [
    "tags['Tags'][0]"
   ]
  },
  {
   "cell_type": "markdown",
   "metadata": {},
   "source": [
    "# Top digitos en listas ordenado por # Shares "
   ]
  },
  {
   "cell_type": "code",
   "execution_count": 77,
   "metadata": {
    "collapsed": false
   },
   "outputs": [],
   "source": [
    "data_frame['digit'] = data_frame['Title'].apply(lambda x: int(x[0]) if x[0].isdigit() else 0)"
   ]
  },
  {
   "cell_type": "code",
   "execution_count": null,
   "metadata": {
    "collapsed": true
   },
   "outputs": [],
   "source": [
    "digits = data_frame.groupby(\"digit\")"
   ]
  },
  {
   "cell_type": "code",
   "execution_count": 79,
   "metadata": {
    "collapsed": false
   },
   "outputs": [
    {
     "ename": "AttributeError",
     "evalue": "bins must increase monotonically.",
     "output_type": "error",
     "traceback": [
      "\u001b[0;31m---------------------------------------------------------------------------\u001b[0m",
      "\u001b[0;31mAttributeError\u001b[0m                            Traceback (most recent call last)",
      "\u001b[0;32m<ipython-input-79-70d28a1fb2e1>\u001b[0m in \u001b[0;36m<module>\u001b[0;34m()\u001b[0m\n\u001b[0;32m----> 1\u001b[0;31m \u001b[0mplt\u001b[0m\u001b[0;34m.\u001b[0m\u001b[0mhist\u001b[0m\u001b[0;34m(\u001b[0m\u001b[0mdata_frame\u001b[0m\u001b[0;34m[\u001b[0m\u001b[0;34m'digit'\u001b[0m\u001b[0;34m]\u001b[0m\u001b[0;34m,\u001b[0m\u001b[0mdata_frame\u001b[0m\u001b[0;34m[\u001b[0m\u001b[0;34m'Shares'\u001b[0m\u001b[0;34m]\u001b[0m\u001b[0;34m)\u001b[0m\u001b[0;34m\u001b[0m\u001b[0m\n\u001b[0m",
      "\u001b[0;32m/Users/antero/.graphlab/anaconda/lib/python2.7/site-packages/matplotlib/pyplot.pyc\u001b[0m in \u001b[0;36mhist\u001b[0;34m(x, bins, range, normed, weights, cumulative, bottom, histtype, align, orientation, rwidth, log, color, label, stacked, hold, **kwargs)\u001b[0m\n\u001b[1;32m   2894\u001b[0m                       \u001b[0mhisttype\u001b[0m\u001b[0;34m=\u001b[0m\u001b[0mhisttype\u001b[0m\u001b[0;34m,\u001b[0m \u001b[0malign\u001b[0m\u001b[0;34m=\u001b[0m\u001b[0malign\u001b[0m\u001b[0;34m,\u001b[0m \u001b[0morientation\u001b[0m\u001b[0;34m=\u001b[0m\u001b[0morientation\u001b[0m\u001b[0;34m,\u001b[0m\u001b[0;34m\u001b[0m\u001b[0m\n\u001b[1;32m   2895\u001b[0m                       \u001b[0mrwidth\u001b[0m\u001b[0;34m=\u001b[0m\u001b[0mrwidth\u001b[0m\u001b[0;34m,\u001b[0m \u001b[0mlog\u001b[0m\u001b[0;34m=\u001b[0m\u001b[0mlog\u001b[0m\u001b[0;34m,\u001b[0m \u001b[0mcolor\u001b[0m\u001b[0;34m=\u001b[0m\u001b[0mcolor\u001b[0m\u001b[0;34m,\u001b[0m \u001b[0mlabel\u001b[0m\u001b[0;34m=\u001b[0m\u001b[0mlabel\u001b[0m\u001b[0;34m,\u001b[0m\u001b[0;34m\u001b[0m\u001b[0m\n\u001b[0;32m-> 2896\u001b[0;31m                       stacked=stacked, **kwargs)\n\u001b[0m\u001b[1;32m   2897\u001b[0m         \u001b[0mdraw_if_interactive\u001b[0m\u001b[0;34m(\u001b[0m\u001b[0;34m)\u001b[0m\u001b[0;34m\u001b[0m\u001b[0m\n\u001b[1;32m   2898\u001b[0m     \u001b[0;32mfinally\u001b[0m\u001b[0;34m:\u001b[0m\u001b[0;34m\u001b[0m\u001b[0m\n",
      "\u001b[0;32m/Users/antero/.graphlab/anaconda/lib/python2.7/site-packages/matplotlib/axes/_axes.pyc\u001b[0m in \u001b[0;36mhist\u001b[0;34m(self, x, bins, range, normed, weights, cumulative, bottom, histtype, align, orientation, rwidth, log, color, label, stacked, **kwargs)\u001b[0m\n\u001b[1;32m   5676\u001b[0m             \u001b[0;31m# this will automatically overwrite bins,\u001b[0m\u001b[0;34m\u001b[0m\u001b[0;34m\u001b[0m\u001b[0m\n\u001b[1;32m   5677\u001b[0m             \u001b[0;31m# so that each histogram uses the same bins\u001b[0m\u001b[0;34m\u001b[0m\u001b[0;34m\u001b[0m\u001b[0m\n\u001b[0;32m-> 5678\u001b[0;31m             \u001b[0mm\u001b[0m\u001b[0;34m,\u001b[0m \u001b[0mbins\u001b[0m \u001b[0;34m=\u001b[0m \u001b[0mnp\u001b[0m\u001b[0;34m.\u001b[0m\u001b[0mhistogram\u001b[0m\u001b[0;34m(\u001b[0m\u001b[0mx\u001b[0m\u001b[0;34m[\u001b[0m\u001b[0mi\u001b[0m\u001b[0;34m]\u001b[0m\u001b[0;34m,\u001b[0m \u001b[0mbins\u001b[0m\u001b[0;34m,\u001b[0m \u001b[0mweights\u001b[0m\u001b[0;34m=\u001b[0m\u001b[0mw\u001b[0m\u001b[0;34m[\u001b[0m\u001b[0mi\u001b[0m\u001b[0;34m]\u001b[0m\u001b[0;34m,\u001b[0m \u001b[0;34m**\u001b[0m\u001b[0mhist_kwargs\u001b[0m\u001b[0;34m)\u001b[0m\u001b[0;34m\u001b[0m\u001b[0m\n\u001b[0m\u001b[1;32m   5679\u001b[0m             \u001b[0mm\u001b[0m \u001b[0;34m=\u001b[0m \u001b[0mm\u001b[0m\u001b[0;34m.\u001b[0m\u001b[0mastype\u001b[0m\u001b[0;34m(\u001b[0m\u001b[0mfloat\u001b[0m\u001b[0;34m)\u001b[0m  \u001b[0;31m# causes problems later if it's an int\u001b[0m\u001b[0;34m\u001b[0m\u001b[0m\n\u001b[1;32m   5680\u001b[0m             \u001b[0;32mif\u001b[0m \u001b[0mmlast\u001b[0m \u001b[0;32mis\u001b[0m \u001b[0mNone\u001b[0m\u001b[0;34m:\u001b[0m\u001b[0;34m\u001b[0m\u001b[0m\n",
      "\u001b[0;32m/Users/antero/.graphlab/anaconda/lib/python2.7/site-packages/numpy/lib/function_base.pyc\u001b[0m in \u001b[0;36mhistogram\u001b[0;34m(a, bins, range, normed, weights, density)\u001b[0m\n\u001b[1;32m    195\u001b[0m         \u001b[0;32mif\u001b[0m \u001b[0;34m(\u001b[0m\u001b[0mnp\u001b[0m\u001b[0;34m.\u001b[0m\u001b[0mdiff\u001b[0m\u001b[0;34m(\u001b[0m\u001b[0mbins\u001b[0m\u001b[0;34m)\u001b[0m \u001b[0;34m<\u001b[0m \u001b[0;36m0\u001b[0m\u001b[0;34m)\u001b[0m\u001b[0;34m.\u001b[0m\u001b[0many\u001b[0m\u001b[0;34m(\u001b[0m\u001b[0;34m)\u001b[0m\u001b[0;34m:\u001b[0m\u001b[0;34m\u001b[0m\u001b[0m\n\u001b[1;32m    196\u001b[0m             raise AttributeError(\n\u001b[0;32m--> 197\u001b[0;31m                 'bins must increase monotonically.')\n\u001b[0m\u001b[1;32m    198\u001b[0m \u001b[0;34m\u001b[0m\u001b[0m\n\u001b[1;32m    199\u001b[0m     \u001b[0;31m# Histogram is an integer or a float array depending on the weights.\u001b[0m\u001b[0;34m\u001b[0m\u001b[0;34m\u001b[0m\u001b[0m\n",
      "\u001b[0;31mAttributeError\u001b[0m: bins must increase monotonically."
     ]
    },
    {
     "data": {
      "image/png": "[encoded data removed]",
      "text/plain": [
       "<matplotlib.figure.Figure at 0x10edf0c50>"
      ]
     },
     "metadata": {},
     "output_type": "display_data"
    }
   ],
   "source": [
    "plt.hist(data_frame['digit'],data_frame['Shares'])"
   ]
  },
  {
   "cell_type": "markdown",
   "metadata": {
    "collapsed": true
   },
   "source": [
    "# ¿Existe alguna relación entre el número de palabras en el Título y el Total de Shares? "
   ]
  },
  {
   "cell_type": "code",
   "execution_count": 52,
   "metadata": {
    "collapsed": false
   },
   "outputs": [],
   "source": [
    "data_frame['title_word_count'] = data_frame['Title'].apply(lambda x: len(x.split(\" \")))"
   ]
  },
  {
   "cell_type": "code",
   "execution_count": 68,
   "metadata": {
    "collapsed": false
   },
   "outputs": [
    {
     "data": {
      "text/plain": [
       "<matplotlib.text.Text at 0x10e70aa90>"
      ]
     },
     "execution_count": 68,
     "metadata": {},
     "output_type": "execute_result"
    },
    {
     "data": {
      "image/png": "[encoded data removed]",
      "text/plain": [
       "<matplotlib.figure.Figure at 0x10e6d4790>"
      ]
     },
     "metadata": {},
     "output_type": "display_data"
    }
   ],
   "source": [
    "plt.scatter(data_frame['title_word_count'],data_frame['Shares'])\n",
    "plt.suptitle(\"Existe alguna relacion entre el numero de palabras en el Titulo y el Total de Shares\")\n",
    "plt.xlabel('Title Word Count')\n",
    "plt.ylabel(\"Shares\")"
   ]
  },
  {
   "cell_type": "markdown",
   "metadata": {},
   "source": [
    "# ¿Existe alguna relación entre el número de palabras en el Título y el Total de Pageviews? "
   ]
  },
  {
   "cell_type": "code",
   "execution_count": 70,
   "metadata": {
    "collapsed": false
   },
   "outputs": [
    {
     "data": {
      "text/plain": [
       "<matplotlib.text.Text at 0x10eb704d0>"
      ]
     },
     "execution_count": 70,
     "metadata": {},
     "output_type": "execute_result"
    },
    {
     "data": {
      "image/png": "[encoded data removed]",
      "text/plain": [
       "<matplotlib.figure.Figure at 0x10ea63750>"
      ]
     },
     "metadata": {},
     "output_type": "display_data"
    }
   ],
   "source": [
    "plt.scatter(data_frame['title_word_count'],data_frame['Views'])\n",
    "plt.suptitle(\"Existe alguna relacion entre el numero de palabras en el Titulo y el Total de Pageviews\")\n",
    "plt.xlabel('Title Word Count')\n",
    "plt.ylabel(\"Views\")"
   ]
  },
  {
   "cell_type": "code",
   "execution_count": null,
   "metadata": {
    "collapsed": true
   },
   "outputs": [],
   "source": []
  }
 ],
 "metadata": {
  "kernelspec": {
   "display_name": "Python 2",
   "language": "python",
   "name": "python2"
  },
  "language_info": {
   "codemirror_mode": {
    "name": "ipython",
    "version": 2
   },
   "file_extension": ".py",
   "mimetype": "text/x-python",
   "name": "python",
   "nbconvert_exporter": "python",
   "pygments_lexer": "ipython2",
   "version": "2.7.10"
  }
 },
 "nbformat": 4,
 "nbformat_minor": 0
}
