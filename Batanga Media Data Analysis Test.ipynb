{
 "cells": [
  {
   "cell_type": "code",
   "execution_count": 10,
   "metadata": {
    "collapsed": true
   },
   "outputs": [],
   "source": [
    "import pandas as pd"
   ]
  },
  {
   "cell_type": "code",
   "execution_count": 11,
   "metadata": {
    "collapsed": false
   },
   "outputs": [],
   "source": [
    "%matplotlib inline\n",
    "import matplotlib.pyplot as plt"
   ]
  },
  {
   "cell_type": "code",
   "execution_count": 12,
   "metadata": {
    "collapsed": true
   },
   "outputs": [],
   "source": [
    "data_frame = pd.read_excel(\"test.xlsx\")"
   ]
  },
  {
   "cell_type": "code",
   "execution_count": 13,
   "metadata": {
    "collapsed": false
   },
   "outputs": [
    {
     "data": {
      "text/html": [
       "<div>\n",
       "<table border=\"1\" class=\"dataframe\">\n",
       "  <thead>\n",
       "    <tr style=\"text-align: right;\">\n",
       "      <th></th>\n",
       "      <th>Title</th>\n",
       "      <th>Publish Date</th>\n",
       "      <th>Section</th>\n",
       "      <th>Tags</th>\n",
       "      <th>Sort (Views)</th>\n",
       "      <th>Visitors</th>\n",
       "      <th>Views</th>\n",
       "      <th>Engaged Minutes</th>\n",
       "      <th>Shares</th>\n",
       "      <th>Desktop Views</th>\n",
       "      <th>...</th>\n",
       "      <th>Search Refs</th>\n",
       "      <th>Internal Refs</th>\n",
       "      <th>Other Refs</th>\n",
       "      <th>Direct Refs</th>\n",
       "      <th>New Vis</th>\n",
       "      <th>Returning Vis</th>\n",
       "      <th>Views New Vis.</th>\n",
       "      <th>Views Ret. Vis.</th>\n",
       "      <th>Minutes New Vis.</th>\n",
       "      <th>Minutes Ret. Vis.</th>\n",
       "    </tr>\n",
       "  </thead>\n",
       "  <tbody>\n",
       "    <tr>\n",
       "      <th>0</th>\n",
       "      <td>Qué siente un bebé en el vientre cuando la mad...</td>\n",
       "      <td>2014-06-19 19:00:00</td>\n",
       "      <td>Familia</td>\n",
       "      <td>vida sexual femenina,comunicacion con el bebe,...</td>\n",
       "      <td>2032660</td>\n",
       "      <td>1799957</td>\n",
       "      <td>2032660</td>\n",
       "      <td>1909892</td>\n",
       "      <td>19566</td>\n",
       "      <td>403304</td>\n",
       "      <td>...</td>\n",
       "      <td>26666</td>\n",
       "      <td>26441</td>\n",
       "      <td>522790</td>\n",
       "      <td>600407</td>\n",
       "      <td>1391120</td>\n",
       "      <td>429155</td>\n",
       "      <td>1537286</td>\n",
       "      <td>495372</td>\n",
       "      <td>1479120</td>\n",
       "      <td>430771</td>\n",
       "    </tr>\n",
       "    <tr>\n",
       "      <th>1</th>\n",
       "      <td>17 tatuajes que toda mujer amaría tener</td>\n",
       "      <td>2015-05-21 08:00:00</td>\n",
       "      <td>Belleza</td>\n",
       "      <td>piel,cuidados de la piel,Mujeres,tatuajes</td>\n",
       "      <td>1781700</td>\n",
       "      <td>1360538</td>\n",
       "      <td>1781700</td>\n",
       "      <td>1348435</td>\n",
       "      <td>93632</td>\n",
       "      <td>350615</td>\n",
       "      <td>...</td>\n",
       "      <td>31624</td>\n",
       "      <td>49391</td>\n",
       "      <td>53252</td>\n",
       "      <td>493505</td>\n",
       "      <td>1020454</td>\n",
       "      <td>407702</td>\n",
       "      <td>1183943</td>\n",
       "      <td>597756</td>\n",
       "      <td>902278</td>\n",
       "      <td>446156</td>\n",
       "    </tr>\n",
       "    <tr>\n",
       "      <th>2</th>\n",
       "      <td>Las mejores posiciones sexuales según Esperanz...</td>\n",
       "      <td>2014-10-29 16:47:00</td>\n",
       "      <td>Pareja</td>\n",
       "      <td>mujeres sexys,sexualidad,Actrices,el estilo de...</td>\n",
       "      <td>1161996</td>\n",
       "      <td>919771</td>\n",
       "      <td>1161996</td>\n",
       "      <td>1532956</td>\n",
       "      <td>2056</td>\n",
       "      <td>12840</td>\n",
       "      <td>...</td>\n",
       "      <td>5904</td>\n",
       "      <td>560</td>\n",
       "      <td>1095115</td>\n",
       "      <td>48168</td>\n",
       "      <td>635002</td>\n",
       "      <td>315815</td>\n",
       "      <td>763930</td>\n",
       "      <td>398064</td>\n",
       "      <td>1027991</td>\n",
       "      <td>504965</td>\n",
       "    </tr>\n",
       "    <tr>\n",
       "      <th>3</th>\n",
       "      <td>4 posiciones para el sexo oral</td>\n",
       "      <td>2014-05-23 08:56:00</td>\n",
       "      <td>Pareja</td>\n",
       "      <td>sexualidad,tips,sexo</td>\n",
       "      <td>925858</td>\n",
       "      <td>774496</td>\n",
       "      <td>925858</td>\n",
       "      <td>722693</td>\n",
       "      <td>1441</td>\n",
       "      <td>79193</td>\n",
       "      <td>...</td>\n",
       "      <td>184530</td>\n",
       "      <td>248227</td>\n",
       "      <td>309763</td>\n",
       "      <td>132809</td>\n",
       "      <td>523292</td>\n",
       "      <td>257296</td>\n",
       "      <td>597597</td>\n",
       "      <td>328261</td>\n",
       "      <td>467838</td>\n",
       "      <td>254854</td>\n",
       "    </tr>\n",
       "    <tr>\n",
       "      <th>4</th>\n",
       "      <td>22 famosas que lucen HERMOSAS sin maquillaje</td>\n",
       "      <td>2015-07-31 23:00:00</td>\n",
       "      <td>Famosos</td>\n",
       "      <td>fotos de famosos,fotos de celebridades,famosas...</td>\n",
       "      <td>882087</td>\n",
       "      <td>750048</td>\n",
       "      <td>882087</td>\n",
       "      <td>793876</td>\n",
       "      <td>35294</td>\n",
       "      <td>244990</td>\n",
       "      <td>...</td>\n",
       "      <td>2478</td>\n",
       "      <td>2505</td>\n",
       "      <td>22312</td>\n",
       "      <td>113418</td>\n",
       "      <td>595509</td>\n",
       "      <td>169403</td>\n",
       "      <td>668436</td>\n",
       "      <td>213651</td>\n",
       "      <td>593643</td>\n",
       "      <td>200232</td>\n",
       "    </tr>\n",
       "  </tbody>\n",
       "</table>\n",
       "<p>5 rows × 23 columns</p>\n",
       "</div>"
      ],
      "text/plain": [
       "                                               Title        Publish Date  \\\n",
       "0  Qué siente un bebé en el vientre cuando la mad... 2014-06-19 19:00:00   \n",
       "1            17 tatuajes que toda mujer amaría tener 2015-05-21 08:00:00   \n",
       "2  Las mejores posiciones sexuales según Esperanz... 2014-10-29 16:47:00   \n",
       "3                     4 posiciones para el sexo oral 2014-05-23 08:56:00   \n",
       "4       22 famosas que lucen HERMOSAS sin maquillaje 2015-07-31 23:00:00   \n",
       "\n",
       "   Section                                               Tags  Sort (Views)  \\\n",
       "0  Familia  vida sexual femenina,comunicacion con el bebe,...       2032660   \n",
       "1  Belleza          piel,cuidados de la piel,Mujeres,tatuajes       1781700   \n",
       "2   Pareja  mujeres sexys,sexualidad,Actrices,el estilo de...       1161996   \n",
       "3   Pareja                               sexualidad,tips,sexo        925858   \n",
       "4  Famosos  fotos de famosos,fotos de celebridades,famosas...        882087   \n",
       "\n",
       "   Visitors    Views  Engaged Minutes  Shares  Desktop Views  \\\n",
       "0   1799957  2032660          1909892   19566         403304   \n",
       "1   1360538  1781700          1348435   93632         350615   \n",
       "2    919771  1161996          1532956    2056          12840   \n",
       "3    774496   925858           722693    1441          79193   \n",
       "4    750048   882087           793876   35294         244990   \n",
       "\n",
       "         ...          Search Refs  Internal Refs  Other Refs  Direct Refs  \\\n",
       "0        ...                26666          26441      522790       600407   \n",
       "1        ...                31624          49391       53252       493505   \n",
       "2        ...                 5904            560     1095115        48168   \n",
       "3        ...               184530         248227      309763       132809   \n",
       "4        ...                 2478           2505       22312       113418   \n",
       "\n",
       "   New Vis  Returning Vis  Views New Vis.  Views Ret. Vis.  Minutes New Vis.  \\\n",
       "0  1391120         429155         1537286           495372           1479120   \n",
       "1  1020454         407702         1183943           597756            902278   \n",
       "2   635002         315815          763930           398064           1027991   \n",
       "3   523292         257296          597597           328261            467838   \n",
       "4   595509         169403          668436           213651            593643   \n",
       "\n",
       "   Minutes Ret. Vis.  \n",
       "0             430771  \n",
       "1             446156  \n",
       "2             504965  \n",
       "3             254854  \n",
       "4             200232  \n",
       "\n",
       "[5 rows x 23 columns]"
      ]
     },
     "execution_count": 13,
     "metadata": {},
     "output_type": "execute_result"
    }
   ],
   "source": [
    "data_frame.head()"
   ]
  },
  {
   "cell_type": "code",
   "execution_count": 14,
   "metadata": {
    "collapsed": false
   },
   "outputs": [
    {
     "data": {
      "text/plain": [
       "Index([            u'Title',      u'Publish Date',           u'Section',\n",
       "                    u'Tags',      u'Sort (Views)',          u'Visitors',\n",
       "                   u'Views',   u'Engaged Minutes',            u'Shares',\n",
       "           u'Desktop Views',      u'Mobile Views',      u'Tablet Views',\n",
       "             u'Social Refs',       u'Search Refs',     u'Internal Refs',\n",
       "              u'Other Refs',       u'Direct Refs',           u'New Vis',\n",
       "           u'Returning Vis',    u'Views New Vis.',   u'Views Ret. Vis.',\n",
       "        u'Minutes New Vis.', u'Minutes Ret. Vis.'],\n",
       "      dtype='object')"
      ]
     },
     "execution_count": 14,
     "metadata": {},
     "output_type": "execute_result"
    }
   ],
   "source": [
    "data_frame.columns"
   ]
  },
  {
   "cell_type": "markdown",
   "metadata": {},
   "source": [
    "# Top 10 Tags por # Shares"
   ]
  },
  {
   "cell_type": "code",
   "execution_count": 15,
   "metadata": {
    "collapsed": true
   },
   "outputs": [],
   "source": [
    "tags = data_frame.sort(\"Shares\",ascending=False)"
   ]
  },
  {
   "cell_type": "code",
   "execution_count": 16,
   "metadata": {
    "collapsed": false
   },
   "outputs": [
    {
     "data": {
      "text/plain": [
       "u'vida sexual femenina,comunicacion con el bebe,Curiosidades,sexo,cuidados del bebe,size-m'"
      ]
     },
     "execution_count": 16,
     "metadata": {},
     "output_type": "execute_result"
    }
   ],
   "source": [
    "tags['Tags'][0]"
   ]
  },
  {
   "cell_type": "markdown",
   "metadata": {},
   "source": [
    "# Top digitos en listas ordenado por # Shares "
   ]
  },
  {
   "cell_type": "code",
   "execution_count": 17,
   "metadata": {
    "collapsed": false
   },
   "outputs": [],
   "source": [
    "data_frame['digit'] = data_frame['Title'].apply(lambda x: int(x.split(\" \")[0]) if x.split(\" \")[0].isdigit() else 0)"
   ]
  },
  {
   "cell_type": "code",
   "execution_count": 18,
   "metadata": {
    "collapsed": true
   },
   "outputs": [],
   "source": [
    "digit = data_frame.sort(\"Shares\",ascending=False)"
   ]
  },
  {
   "cell_type": "code",
   "execution_count": 19,
   "metadata": {
    "collapsed": false
   },
   "outputs": [
    {
     "name": "stdout",
     "output_type": "stream",
     "text": [
      "[ 9 15 10  0 17  7 20  5  6 22 14 13 12 28  8 11  4  3]\n"
     ]
    }
   ],
   "source": [
    "print digit['digit'].unique()"
   ]
  },
  {
   "cell_type": "code",
   "execution_count": 20,
   "metadata": {
    "collapsed": false
   },
   "outputs": [
    {
     "data": {
      "text/plain": [
       "<matplotlib.collections.PathCollection at 0x1125326d0>"
      ]
     },
     "execution_count": 20,
     "metadata": {},
     "output_type": "execute_result"
    },
    {
     "data": {
      "image/png": "[encoded data removed]",
      "text/plain": [
       "<matplotlib.figure.Figure at 0x1047aac10>"
      ]
     },
     "metadata": {},
     "output_type": "display_data"
    }
   ],
   "source": [
    "plt.figure()\n",
    "plt.scatter(data_frame['digit'],data_frame['Shares'])"
   ]
  },
  {
   "cell_type": "markdown",
   "metadata": {
    "collapsed": true
   },
   "source": [
    "# ¿Existe alguna relación entre el número de palabras en el Título y el Total de Shares? "
   ]
  },
  {
   "cell_type": "code",
   "execution_count": 21,
   "metadata": {
    "collapsed": false
   },
   "outputs": [],
   "source": [
    "data_frame['title_word_count'] = data_frame['Title'].apply(lambda x: len(x.split(\" \")))"
   ]
  },
  {
   "cell_type": "code",
   "execution_count": 22,
   "metadata": {
    "collapsed": false
   },
   "outputs": [
    {
     "data": {
      "text/plain": [
       "<matplotlib.text.Text at 0x112630bd0>"
      ]
     },
     "execution_count": 22,
     "metadata": {},
     "output_type": "execute_result"
    },
    {
     "data": {
      "image/png": "[encoded data removed]",
      "text/plain": [
       "<matplotlib.figure.Figure at 0x1123a4b90>"
      ]
     },
     "metadata": {},
     "output_type": "display_data"
    }
   ],
   "source": [
    "plt.scatter(data_frame['title_word_count'],data_frame['Shares'])\n",
    "plt.suptitle(\"Existe alguna relacion entre el numero de palabras en el Titulo y el Total de Shares\")\n",
    "plt.xlabel('Title Word Count')\n",
    "plt.ylabel(\"Shares\")"
   ]
  },
  {
   "cell_type": "markdown",
   "metadata": {},
   "source": [
    "# Pudiese haber una relacion entre la cantidad de palabras en el titulo y los shares, viendo que si el titulo tiene entre 7 a 11 palabras, puede irle bastante bien"
   ]
  },
  {
   "cell_type": "markdown",
   "metadata": {},
   "source": [
    "# ¿Existe alguna relación entre el número de palabras en el Título y el Total de Pageviews? "
   ]
  },
  {
   "cell_type": "code",
   "execution_count": 23,
   "metadata": {
    "collapsed": false
   },
   "outputs": [
    {
     "data": {
      "text/plain": [
       "<matplotlib.text.Text at 0x112630f50>"
      ]
     },
     "execution_count": 23,
     "metadata": {},
     "output_type": "execute_result"
    },
    {
     "data": {
      "image/png": "[encoded data removed]",
      "text/plain": [
       "<matplotlib.figure.Figure at 0x1119212d0>"
      ]
     },
     "metadata": {},
     "output_type": "display_data"
    }
   ],
   "source": [
    "plt.scatter(data_frame['title_word_count'],data_frame['Views'])\n",
    "plt.suptitle(\"Existe alguna relacion entre el numero de palabras en el Titulo y el Total de Pageviews\")\n",
    "plt.xlabel('Title Word Count')\n",
    "plt.ylabel(\"Views\")"
   ]
  },
  {
   "cell_type": "markdown",
   "metadata": {
    "collapsed": true
   },
   "source": [
    "# Igual que antes, parece haber una relacion en el titulos pequeños y los clicks que se les da. Parece que lo mejor es tener un titulo de 8 a 11 palabras como maximo"
   ]
  },
  {
   "cell_type": "markdown",
   "metadata": {},
   "source": [
    "# ¿Comentarios o Descubrimientos Adicionales?"
   ]
  },
  {
   "cell_type": "markdown",
   "metadata": {},
   "source": [
    "# Palabras importantes en los titulos"
   ]
  },
  {
   "cell_type": "code",
   "execution_count": 24,
   "metadata": {
    "collapsed": false
   },
   "outputs": [],
   "source": [
    "from collections import Counter"
   ]
  },
  {
   "cell_type": "code",
   "execution_count": 25,
   "metadata": {
    "collapsed": true
   },
   "outputs": [],
   "source": [
    "import numpy as np"
   ]
  },
  {
   "cell_type": "code",
   "execution_count": 26,
   "metadata": {
    "collapsed": true
   },
   "outputs": [],
   "source": [
    "from itertools import chain"
   ]
  },
  {
   "cell_type": "code",
   "execution_count": 27,
   "metadata": {
    "collapsed": true
   },
   "outputs": [],
   "source": [
    "import nltk"
   ]
  },
  {
   "cell_type": "code",
   "execution_count": 28,
   "metadata": {
    "collapsed": false
   },
   "outputs": [
    {
     "name": "stdout",
     "output_type": "stream",
     "text": [
      "showing info http://www.nltk.org/nltk_data/\n"
     ]
    },
    {
     "data": {
      "text/plain": [
       "True"
      ]
     },
     "execution_count": 28,
     "metadata": {},
     "output_type": "execute_result"
    }
   ],
   "source": [
    "nltk.download()"
   ]
  },
  {
   "cell_type": "code",
   "execution_count": 34,
   "metadata": {
    "collapsed": true
   },
   "outputs": [],
   "source": [
    "from nltk.corpus import stopwords"
   ]
  },
  {
   "cell_type": "code",
   "execution_count": 84,
   "metadata": {
    "collapsed": true
   },
   "outputs": [],
   "source": [
    "data_frame = data_frame.sort(\"Shares\",ascending=False)"
   ]
  },
  {
   "cell_type": "code",
   "execution_count": 85,
   "metadata": {
    "collapsed": true
   },
   "outputs": [],
   "source": [
    "def removeStopWords( words ):\n",
    "     return [ word for word in words if word.lower()  not in stopwords.words('spanish') and not word.isdigit()]"
   ]
  },
  {
   "cell_type": "code",
   "execution_count": 89,
   "metadata": {
    "collapsed": false
   },
   "outputs": [],
   "source": [
    "words = [removeStopWords(a.split(\" \")) for a in data_frame['Title'][0:100]]"
   ]
  },
  {
   "cell_type": "code",
   "execution_count": 90,
   "metadata": {
    "collapsed": false
   },
   "outputs": [],
   "source": [
    "result = Counter(chain.from_iterable(words))"
   ]
  },
  {
   "cell_type": "code",
   "execution_count": 91,
   "metadata": {
    "collapsed": false
   },
   "outputs": [
    {
     "name": "stdout",
     "output_type": "stream",
     "text": [
      "Counter({u'tatuajes': 16, u'ideas': 7, u'mujeres': 6, u'madre': 5, u'trenzas': 5, u'cabello': 4, u'trucos': 4, u'mujer': 4, u'cosas': 4, u'reciclar': 4, u'largo': 3, u'deber\\xedas': 3, u'Si': 3, u'robar\\xe1n': 3, u'mejores': 3, u'maquillaje': 3, u'hogar': 3, u'Mira': 3, u'\\xbfQu\\xe9': 3, u'beb\\xe9': 3, u'solo': 3, u'razones': 3, u'tatuaje': 3, u'tiernos': 3, u'hacer': 3, u'ojos': 3, u'C\\xf3mo': 3, u'hermosas': 2, u'menos': 2, u'seg\\xfan': 2, u'significados': 2, u'tipo': 2, u'AMIGAS': 2, u't\\xe9': 2, u'ejercicios': 2, u'puede': 2, u'curiosos': 2, u'minutos': 2, u'peque\\xf1os': 2, u'abdomen': 2, u'vientre': 2, u'truco': 2, u'frases': 2, u'toda': 2, u'cada': 2, u'lugares': 2, u'ideal': 2, u'hombres': 2, u'amas': 2, u'tatuarte': 2, u'cama': 2, u'perritos': 2, u'tener': 2, u'necesitas': 2, u'lucir': 2, u'compartir': 2, u'TODAS': 2, u'se\\xf1ales': 2, u'puedes': 2, u'Halloween': 2, u'Ideas': 2, u'signos': 2, u'vida': 2, u'chico': 2, u'peinados': 2, u'pelo': 2, u'\\xbfSab\\xedas': 2, u'M\\xedS': 2, u'hija': 2, u'accesorios': 2, u'ins\\xf3litas': 1, u'hijos': 1, u'primer': 1, u'\\xa1Averigua': 1, u'ver': 1, u'ves': 1, u'c\\xf3mo': 1, u'REALMENTE': 1, u'anillo': 1, u'\\xa1Obt\\xe9n': 1, u'b\\xe1sicos': 1, u'EXPRESS': 1, u'acero': 1, u'hora': 1, u'interferir\\xe1n': 1, u'originales': 1, u'cumplea\\xf1os': 1, u'muebles': 1, u'cancheros': 1, u'pl\\xe1sticas': 1, u'embarazo': 1, u'SIGNO?': 1, u'tips': 1, u's\\xfaper': 1, u'posiciones': 1, u'acondicionador': 1, u'CHICO': 1, u'adolescencia': 1, u'd\\xeda': 1, u'Consume': 1, u'grandiosas': 1, u'laves': 1, u'amar\\xeda': 1, u'siempre': 1, u'combinaci\\xf3n': 1, u'conocer': 1, u'cualidades': 1, u'todas': 1, u'ciencia': 1, u'pechos': 1, u'saber': 1, u'champ\\xfa?': 1, u'semana,': 1, u'\\xa1Descubre': 1, u'minimalistas': 1, u'decorando': 1, u'bajar': 1, u'malo': 1, u'expertos...': 1, u'galletitas': 1, u'identificar\\xe1s': 1, u'\\xa1reduce': 1, u'lim\\xf3n': 1, u'loco': 1, u'perder': 1, u'logras': 1, u'lograr': 1, u'tan': 1, u'Torta': 1, u'viejos': 1, u'gl\\xfateos': 1, u'ingeniosos': 1, u'amistad': 1, u'inspiradores': 1, u'gato': 1, u'conoc\\xedas': 1, u'vientre?': 1, u'Tatuajes': 1, u'hombre': 1, u'sentir': 1, u'secretos': 1, u'si': 1, u'despu\\xe9s': 1, u'\\xbfC\\xf3mo': 1, u'\\xa1estos': 1, u'mam\\xe1?': 1, u'\\xa1Riqu\\xedsima!': 1, u'crezca,': 1, u'VIDA': 1, u'\\xa1WOW!': 1, u'M\\xedS!': 1, u'botellas': 1, u'manicura': 1, u'S\\xed,': 1, u'bajitas': 1, u'dej\\xf3': 1, u'durmieron': 1, u'moda': 1, u'descubrimiento': 1, u'gorros': 1, u'ni\\xf1os': 1, u'cubiertas': 1, u'inspiradoras': 1, u'tirantes': 1, u'globos': 1, u'ejercicios!': 1, u'hermosa': 1, u'abuela': 1, u'dolorosos': 1, u'VIRGO': 1, u'Peinados': 1, u'creativas': 1, u'mam\\xe1s': 1, u'terrario': 1, u'Significados': 1, u'hacerte': 1, u'TATUAJES': 1, u'inspiradora!': 1, u'intentar': 1, u'dise\\xf1ar': 1, u'pasos': 1, u'PESO!': 1, u'mostrar\\xe1n': 1, u'ALIENTO': 1, u'inteligencia': 1, u'GRANDE': 1, u'japonesa': 1, u'compromiso': 1, u'pa\\xeds': 1, u'boca': 1, u'desayunos': 1, u'trenzas,': 1, u'relaciones': 1, u'espalda': 1, u'verte': 1, u'bubble': 1, u'INFARTO!': 1, u'geniales': 1, u'dormilona?': 1, u'guapa': 1, u'hermosos': 1, u'Prueba': 1, u'\\xa1Wow!': 1, u'\\xa1Mira': 1, u'heredamos': 1, u'interior': 1, u'innovadora': 1, u'f\\xe1ciles': 1, u'empleo': 1, u'cheesecake': 1, u'm\\xe1quina': 1, u'pareja': 1, u'encantar': 1, u'crochet': 1, u'delineado': 1, u'reciclarlas': 1, u'd\\xedas': 1, u'flor': 1, u'seguro': 1, u'adelgazar:': 1, u'TEST': 1, u'pruebas': 1, u'geom\\xe9tricos': 1, u'jengibre': 1, u'comenzar': 1, u'hace': 1, u'mu\\xf1eca': 1, u'barriga!': 1, u'dice': 1, u'delicados': 1, u'favoritos': 1, u'palets': 1, u'LOCOS': 1, u'vuelven': 1, u'HERMOSA': 1, u'Sagitario': 1, u'Salir': 1, u'\\xa1ABS': 1, u'PEL\\xedCULA': 1, u'significativos': 1, u'momentos': 1, u'ser': 1, u'AMAN': 1, u'h\\xe1bitos': 1, u'complementa?': 1, u'TATUARTE': 1, u'chicas': 1, u'tender': 1, u'musicales': 1, u'hermana?': 1, u'bien': 1, u'\\xbfEres': 1, u'\\xbfTu': 1, u'experiencia': 1, u't\\xe9cnica': 1, u'niegues)': 1, u'celebrar': 1, u'sencilla': 1, u'har\\xe1n': 1, u'ventajas': 1, u'GENIALES': 1, u'imaginas': 1, u'simple': 1, u'mexicanas': 1, u'PERDER': 1, u'tatuarse': 1, u'suceder\\xe1...': 1, u'aprende': 1, u'amiga': 1, u'\\xa1Este': 1, u'usado': 1, u'crecimiento': 1, u'reducir': 1, u'abierta': 1, u'zonas': 1, u'aliento': 1, u'cajones': 1, u'frutas': 1, u'conserva': 1, u'fotos': 1, u'trasero': 1, u'manualidades': 1, u'diferencia': 1, u'famosas': 1, u'\\xa1Tu': 1, u'mantenga': 1, u'madre?': 1, u'es...': 1, u'VINAGRE': 1, u'perfectos': 1, u'Comienza': 1, u'(y': 1, u'nails,': 1, u'coser,': 1, u'inseparables': 1, u'inspirarte': 1, u'(no': 1, u'MUJER': 1, u'quiere': 1, u'casarse': 1, u'formas': 1, u'ama': 1, u'y...': 1, u'perfecto': 1, u'deber\\xedamos': 1, u'saludables': 1, u'perfecta': 1, u'VARONCITO': 1, u'\\xa1Impresionan!': 1, u'HERMOSAS': 1, u'convertir': 1, u'chica': 1, u'Aprend\\xe9': 1, u'tatuajes...': 1, u'salud?': 1, u'divina': 1, u'lugar!': 1, u'bonitos': 1, u'\\xbfEl': 1, u'dicen': 1, u'trimestre': 1, u'nueva': 1, u'comunes': 1, u'r\\xe1pidos': 1, u'encantar\\xe1n': 1, u'gestos': 1, u'entender\\xe1n': 1, u'lucen': 1, u'mismo': 1, u'dedos': 1, u'ver\\xe1s': 1, u'ni\\xf1as': 1, u'telenovelas': 1, u'primas': 1, u'relaci\\xf3n': 1, u'neum\\xe1ticos': 1, u'transformar': 1, u'van': 1, u'pocos': 1, u'atado': 1, u'sexuales': 1, u'personalidad': 1, u'make-up': 1, u'TATUARSE': 1, u'seria': 1, u'familia': 1, u'\\xbfCompartir\\xedas': 1, u'barriga': 1, u\"CD's\": 1, u'Disfraces': 1, u'genial': 1, u'realmente!': 1, u'dure': 1, u'Conoce': 1, u'mejor': 1, u'troncos': 1, u'caracterizan': 1, u'viste': 1, u'besos': 1, u'recordar': 1, u'naranja,': 1, u'cuerpo': 1, u'volver\\xe1n': 1, u'sost\\xe9n': 1, u'tendencia': 1, u'coraz\\xf3n': 1, u'logra': 1, u'entienden)': 1, u'SEXUAL?': 1, u'ti!': 1, u'\\xa1Pru\\xe9balos!': 1})\n"
     ]
    }
   ],
   "source": [
    "print result"
   ]
  },
  {
   "cell_type": "markdown",
   "metadata": {},
   "source": [
    "# Por tamaño, muestro las 20 palabras mas frecuentes"
   ]
  },
  {
   "cell_type": "code",
   "execution_count": 92,
   "metadata": {
    "collapsed": false
   },
   "outputs": [
    {
     "data": {
      "image/png": "[encoded data removed]",
      "text/plain": [
       "<matplotlib.figure.Figure at 0x114a9cb10>"
      ]
     },
     "metadata": {},
     "output_type": "display_data"
    }
   ],
   "source": [
    "plt.figure(figsize=(20,10))\n",
    "words = result.keys()[0:20]\n",
    "counts = result.values()[0:20]\n",
    "indexes = np.arange(len(words))\n",
    "width = 0.5\n",
    "plt.bar(indexes,counts, width)\n",
    "plt.xticks(indexes + width , words)\n",
    "plt.show()"
   ]
  },
  {
   "cell_type": "markdown",
   "metadata": {},
   "source": [
    "# Los 100 mejores post, usaron palabras como hermosa, insolitas, segun (insinu"
   ]
  }
 ],
 "metadata": {
  "kernelspec": {
   "display_name": "Python 2",
   "language": "python",
   "name": "python2"
  },
  "language_info": {
   "codemirror_mode": {
    "name": "ipython",
    "version": 2
   },
   "file_extension": ".py",
   "mimetype": "text/x-python",
   "name": "python",
   "nbconvert_exporter": "python",
   "pygments_lexer": "ipython2",
   "version": "2.7.10"
  }
 },
 "nbformat": 4,
 "nbformat_minor": 0
}
